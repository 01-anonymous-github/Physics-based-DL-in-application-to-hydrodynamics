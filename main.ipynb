{
 "cells": [
  {
   "cell_type": "markdown",
   "metadata": {
    "id": "RJkKJ83igGYb"
   },
   "source": [
    "# **Physics-based loss and machine learing approach in application to fluids flow modelling**"
   ]
  },
  {
   "cell_type": "markdown",
   "metadata": {
    "id": "ydwhZV95sFoN"
   },
   "source": [
    "# Initialization\n",
    "## Import libraries"
   ]
  },
  {
   "cell_type": "code",
   "execution_count": null,
   "metadata": {
    "id": "Go3JwW4hICsK"
   },
   "outputs": [],
   "source": [
    "# Pytorch modules\n",
    "import torch\n",
    "from torch import nn\n",
    "from torch import autograd\n",
    "from torchvision import transforms as T\n",
    "\n",
    "# Plotting\n",
    "from matplotlib import pyplot as plt\n",
    "from matplotlib import transforms\n",
    "from matplotlib import cm\n",
    " \n",
    "# Arrays\n",
    "import numpy as np\n",
    "\n",
    "# Python functions\n",
    "from collections import namedtuple\n",
    "from itertools import product\n",
    "from collections import OrderedDict\n",
    "\n",
    "# Status bar\n",
    "from tqdm.notebook import tqdm\n",
    "\n",
    "# Work with files and images\n",
    "import json\n",
    "from pathlib import Path\n",
    "import os, fnmatch\n",
    "import re\n",
    "from PIL import Image, ImageOps\n",
    "import cv2\n",
    "\n",
    "# Time\n",
    "from datetime import datetime\n",
    "import time"
   ]
  },
  {
   "cell_type": "markdown",
   "metadata": {
    "id": "tVhnJIpl8NCV"
   },
   "source": [
    "## Helper functions"
   ]
  },
  {
   "cell_type": "code",
   "execution_count": null,
   "metadata": {
    "id": "-fsaob3n8NCW"
   },
   "outputs": [],
   "source": [
    "def load_3d(ind=None, file_ex='.pt'):\n",
    "    files_list = fnmatch.filter(os.listdir(DATA_DIR), f'*{file_ex}')\n",
    "    print('Files list: \\n')\n",
    "    for i, file in enumerate(files_list):\n",
    "        print(i, file)\n",
    "    if ind is None:\n",
    "        ind = int(input('Enter file num: '))\n",
    "    if file_ex == '.pt':\n",
    "        mask_tmp = torch.load(os.path.join(DATA_DIR, files_list[ind]))\n",
    "    else:\n",
    "        mask_tmp = Image.open(os.path.join(DATA_DIR, files_list[ind])) #open image\n",
    "        mask_tmp = ImageOps.grayscale(mask_tmp).resize((SIZE, SIZE) ,resample=0)\n",
    "        mask_tmp = torch.tensor(np.array(mask_tmp) == 255).float()\n",
    "        mask_tmp = mask_tmp.unsqueeze(0).unsqueeze(2)\n",
    "        mask_tmp = mask_tmp.repeat(1, 1, SIZE, 1)\n",
    "\n",
    "    print('\\nMask shape: ', mask_tmp.shape)\n",
    "    \n",
    "    size_orig = mask_tmp.shape[1]\n",
    "    \n",
    "    tmp_split = files_list[ind][:-3].split('_')\n",
    "    \n",
    "    resize = T.Resize((SIZE, SIZE), T.InterpolationMode('nearest'))\n",
    "\n",
    "    mask = torch.zeros((1, mask_tmp.shape[1], SIZE, SIZE))\n",
    "\n",
    "    for i in range(mask_tmp.shape[1]):\n",
    "        mask[:, i] = resize(mask_tmp[:, i])\n",
    "\n",
    "    mask_tmp = mask.clone()\n",
    "\n",
    "    mask = torch.zeros((1, SIZE, SIZE, SIZE))\n",
    "\n",
    "    for i in range(SIZE):\n",
    "        mask[:, :, :, i] = resize(mask_tmp[:, :, :, i])\n",
    "\n",
    "    mask_contour = torch.zeros_like(mask)\n",
    "    \n",
    "    mask_tmp = torch.ones(SIZE + 2, SIZE + 2, SIZE + 2)\n",
    "    mask_tmp[1:-1, 1:-1, 1:-1] = mask[0]\n",
    "\n",
    "    for i in range(SIZE):\n",
    "        for j in range(SIZE):\n",
    "            for k in range(SIZE):\n",
    "                if mask[0, i, j, k] and mask_tmp[i:i + 3, j:j + 3, k:k + 3].sum() < 27:\n",
    "                    mask_contour[0, i, j, k] = 1\n",
    "    \n",
    "    if SIZE == 64:\n",
    "        s = 1\n",
    "    elif SIZE == 128:\n",
    "        s = 0.1\n",
    "    elif SIZE == 256:\n",
    "        s = 0.01\n",
    "    else:\n",
    "        s = 0.1\n",
    "    \n",
    "    x_scatter = np.meshgrid(np.arange(0, SIZE),\n",
    "                            np.arange(0, SIZE),\n",
    "                            np.arange(0, SIZE), indexing='ij')\n",
    "    \n",
    "    fig = plt.figure(figsize=(FIGSIZE * 2, FIGSIZE * 2))\n",
    "    ax = fig.add_subplot(projection='3d')\n",
    "    indices = mask_contour[0].cpu().detach() == 1\n",
    "    ax.scatter(x_scatter[0][indices],\n",
    "               x_scatter[1][indices],\n",
    "               x_scatter[2][indices], c='red', s=s * 50, alpha=0.2)\n",
    "    plt.title('3d mask contour')\n",
    "    plt.show()\n",
    "    \n",
    "    fig = plt.figure(figsize=(FIGSIZE * 2, FIGSIZE * 2))\n",
    "    ax = fig.add_subplot(projection='3d')\n",
    "    indices = mask[0].cpu().detach() == 1\n",
    "    ax.scatter(x_scatter[0][indices],\n",
    "               x_scatter[1][indices],\n",
    "               x_scatter[2][indices], c='red', s=s * 50, alpha=0.2)\n",
    "    plt.title('3d mask')\n",
    "    plt.show()\n",
    "    \n",
    "    plt.imshow(mask[0,SLICES[0],:,:])\n",
    "    plt.title('mask $x_1 = const$')\n",
    "    plt.colorbar()\n",
    "    plt.show()\n",
    "    plt.imshow(mask[0,:,SLICES[1],:])\n",
    "    plt.title('mask $x_2 = const$')\n",
    "    plt.colorbar()\n",
    "    plt.show()\n",
    "    plt.imshow(mask[0,:,:,SLICES[2]])\n",
    "    plt.title('mask $x_3 = const$')\n",
    "    plt.colorbar()\n",
    "    plt.show()\n",
    "\n",
    "    psi_1_init = mask[:, :, :, :].sum(1) / SIZE - 0.5\n",
    "    psi_2_init = -(mask[:, :, :, :].sum(2) / SIZE - 0.5)\n",
    "    psi_3_init = mask[:, :, :, :].sum(3) / SIZE - 0.5\n",
    "    \n",
    "    plt.imshow(psi_1_init[0])\n",
    "    plt.title('psi 1 init')\n",
    "    plt.colorbar()\n",
    "    plt.show()\n",
    "    plt.imshow(psi_2_init[0])\n",
    "    plt.title('psi 2 init')\n",
    "    plt.colorbar()\n",
    "    plt.show()\n",
    "    plt.imshow(psi_3_init[0])\n",
    "    plt.title('psi 3 init')\n",
    "    plt.colorbar()\n",
    "    plt.show()\n",
    "    \n",
    "    psi_contour_mm = torch.zeros(3, SIZE, SIZE)\n",
    "    psi_contour_pp = torch.zeros(3, SIZE, SIZE)\n",
    "    \n",
    "    contours, hierarchy = cv2.findContours((psi_1_init[0] > psi_1_init[0].min()).numpy().astype('uint8'),\n",
    "                                               cv2.RETR_TREE, cv2.CHAIN_APPROX_SIMPLE)\n",
    "    \n",
    "    psi_1_contour = cv2.drawContours(torch.zeros_like(psi_1_init[0]).numpy(), contours, -1, 1, 1)\n",
    "    \n",
    "    contours, hierarchy = cv2.findContours((psi_2_init[0] < psi_2_init[0].max()).numpy().astype('uint8'),\n",
    "                                               cv2.RETR_TREE, cv2.CHAIN_APPROX_SIMPLE)\n",
    "    \n",
    "    psi_2_contour = cv2.drawContours(torch.zeros_like(psi_1_init[0]).numpy(), contours, -1, 1, 1)\n",
    "    \n",
    "    for i in range(SIZE):\n",
    "        psi_contour_mm[0, psi_1_contour[:, i].argmax(), i] = 1\n",
    "        psi_contour_pp[0, SIZE - 1 - np.flip(psi_1_contour[:, i], 0).argmax(), i] = 1\n",
    "        \n",
    "        psi_contour_mm[1, psi_2_contour[:, i].argmax(), i] = 1\n",
    "        psi_contour_pp[1, SIZE - 1 - np.flip(psi_2_contour[:, i], 0).argmax(), i] = 1\n",
    "        \n",
    "    plt.imshow(psi_contour_mm[0])\n",
    "    plt.title('psi 1 contour mm')\n",
    "    plt.colorbar()\n",
    "    plt.show()\n",
    "    plt.imshow(psi_contour_mm[1])\n",
    "    plt.title('psi 2 contour mm')\n",
    "    plt.colorbar()\n",
    "    plt.show()\n",
    "    plt.imshow(psi_contour_mm[2])\n",
    "    plt.title('psi 3 contour mm')\n",
    "    plt.colorbar()\n",
    "    plt.show()\n",
    "    \n",
    "    plt.imshow(psi_contour_pp[0])\n",
    "    plt.title('psi 1 contour pp')\n",
    "    plt.colorbar()\n",
    "    plt.show()\n",
    "    plt.imshow(psi_contour_pp[1])\n",
    "    plt.title('psi 2 contour pp')\n",
    "    plt.colorbar()\n",
    "    plt.show()\n",
    "    plt.imshow(psi_contour_pp[2])\n",
    "    plt.title('psi 3 contour pp')\n",
    "    plt.colorbar()\n",
    "    plt.show()\n",
    "    \n",
    "    plt.imshow(mask_contour[0, :, :, 0])\n",
    "    plt.title('x3[0] mask contour')\n",
    "    plt.colorbar()\n",
    "    plt.show()\n",
    "    plt.imshow(mask_contour[0, :, :, int(SIZE // 2)])\n",
    "    plt.title('x3[int(SIZE // 2)] mask contour')\n",
    "    plt.colorbar()\n",
    "    plt.show()\n",
    "    plt.imshow(mask_contour[0, :, :, -1])\n",
    "    plt.title('x3[-1] mask contour')\n",
    "    plt.colorbar()\n",
    "    plt.show()\n",
    "    \n",
    "    return (mask.to(DEVICE), mask_contour.to(DEVICE), psi_1_init, psi_2_init, psi_3_init,\n",
    "            torch.stack([psi_1_init, psi_2_init, psi_3_init]).to(DEVICE),\n",
    "            psi_contour_mm, psi_contour_pp)"
   ]
  },
  {
   "cell_type": "markdown",
   "metadata": {
    "id": "Y98HKny0B0SL"
   },
   "source": [
    "## Сonstants for selecting inputs"
   ]
  },
  {
   "cell_type": "code",
   "execution_count": null,
   "metadata": {
    "id": "nyROAHAOB0SR"
   },
   "outputs": [],
   "source": [
    "MASK_INDEX = 3 # Index of mask (3D: {0: pipe}, 2D: {0: Aorta, 1: Liver, 2: Parallel plates + cilynder, 3: Parallel plates})\n",
    "USE_3D = False # Use or not 3D\n",
    "MODEL_NAME = \"MLP\" # Model type (MLP or Unet)\n",
    "SIZE = 128 # Number of points for each X\n",
    "L = [0.016] * 3 # Domain size\n",
    "FLUID_TYPE = 'non' # Fluid type (new on non)\n",
    "Q_3 = 0.000004 if FLUID_TYPE == 'new' else 2.57e-06 # Flow rate\n",
    "MODEL_NAME_FINAL = f'{MODEL_NAME}_{SIZE}_{L[0]}_{FLUID_TYPE}'\n",
    "CALC_ERROR = True # Calculate or not errors"
   ]
  },
  {
   "cell_type": "markdown",
   "metadata": {
    "id": "nzMpruhsYD38"
   },
   "source": [
    "## Constants"
   ]
  },
  {
   "cell_type": "code",
   "execution_count": null,
   "metadata": {
    "id": "YsKHT1J2Ibx9",
    "scrolled": false
   },
   "outputs": [],
   "source": [
    "# Visualization\n",
    "STEP3D = int(SIZE / 16) # Step for 3d visualization\n",
    "SLICES = [int(SIZE/2), int(SIZE/2), int(SIZE/2)]\n",
    "VPS = 10 # vector plot step \n",
    "FIGSIZE = 6 # figure size\n",
    "\n",
    "# Load mask\n",
    "DEVICE = torch.device(\"cuda\" if torch.cuda.is_available() else \"cpu\")\n",
    "DATA_DIR = 'data'\n",
    "WORK_DIR = 'work'\n",
    "MASK, MASK_CONTOUR, PSI_1_INIT, PSI_2_INIT, PSI_3_INIT, INP, PSI_CONTOUR_MM, PSI_CONTOUR_PP = load_3d(\n",
    "    MASK_INDEX, '.pt' if USE_3D else '.png')\n",
    "\n",
    "# Training\n",
    "EPOCHS = 10000 # Number of epoches\n",
    "IN_CH = 1 # number of input channels\n",
    "OUT_CH = 1 # number of output channels\n",
    "\n",
    "EARLY_STOP_PATIENCE = 2000 # number of itarations without improvement\n",
    "START_WITH_SAVED = False # start training from saved best model\n",
    "CONTINUE = False # continuation of training in case of interruption\n",
    "DECAY = 0 # L2 regularization coef\n",
    "\n",
    "if USE_3D:\n",
    "    W_B = 100000000 # boundary loss weight\n",
    "    W_V0  = 100000 # velocity on walls loss weight\n",
    "    W_P = 1 # power loss weight\n",
    "else:\n",
    "    W_B = 0 if MODEL_NAME == 'Unet' else 100000 # boundary loss weight\n",
    "    W_V0  = 10 if MODEL_NAME == 'Unet' else 1 # velocity on walls loss weight\n",
    "    W_P = 1 if MODEL_NAME == 'Unet' else 2 # power loss weight\n",
    "\n",
    "USE_MASK = 1 if MODEL_NAME == 'MLP' else 0 # 0 - withot mask for power loss 1 - mask for flow area 2 - mask for flow area and walls\n",
    "USE_TORCH_INTEGRAL = False # integral solution type\n",
    "DIFF_AUTO = True # enable auto differentiation (only for MLP)\n",
    "USE_SINGLE_BOUNDARY = True if MODEL_NAME == 'MLP' else False # use psipp and psimm only for boundary between fluid and walls\n",
    "\n",
    "LOG_PARAMETERS = {'START_WITH_SAVED': START_WITH_SAVED,\n",
    "                  'SIZE': SIZE,\n",
    "                  'EPOCHS': EPOCHS,\n",
    "                  'MODEL_NAME': MODEL_NAME,\n",
    "                  'W_B': W_B,\n",
    "                  'W_V0': W_V0,\n",
    "                  'USE_MASK': USE_MASK,\n",
    "                  'USE_TORCH_INTEGRAL': USE_TORCH_INTEGRAL,\n",
    "                  'DIFF_AUTO': DIFF_AUTO,\n",
    "                  'USE_SINGLE_BOUNDARY': USE_SINGLE_BOUNDARY}\n",
    "\n",
    "HYPS = []\n",
    "\n",
    "if MODEL_NAME == 'Unet':\n",
    "    hyps = {\"learning_rate\": [1e-3],\n",
    "            \"optimizer\": ['adam'],\n",
    "            \"scheduler\": [\"step\"],\n",
    "            \"scheduler_factor\": [0.1],\n",
    "            \"scheduler_patience\": [5000],\n",
    "            \"use_bn\": [True],\n",
    "            \"num_of_feat\": [32],\n",
    "            'use_sigmoid': [True]}\n",
    "else:\n",
    "    hyps = {\"learning_rate\": [1e-3],\n",
    "            \"optimizer\": ['adam'],\n",
    "            \"scheduler\": [\"step\"],\n",
    "            \"hidden_neurons\": [20],\n",
    "            \"hidden_layers\": [10],\n",
    "            \"scheduler_factor\": [0.1],\n",
    "            \"scheduler_patience\": [5000],\n",
    "            'use_sigmoid': [False]}\n",
    "    \n",
    "for i in product(*[hyps[j] for j in hyps]):\n",
    "    HYPS.append({a:b for a, b in zip(hyps, i)})"
   ]
  },
  {
   "cell_type": "markdown",
   "metadata": {
    "id": "ORhTWZZvVw7c"
   },
   "source": [
    "## Geometry of the flow domain, fluid properties and boundary conditions"
   ]
  },
  {
   "attachments": {
    "image.png": {
     "image/png": "[encoded data removed]"
    }
   },
   "cell_type": "markdown",
   "metadata": {
    "id": "u3vKkJ4p8NCo"
   },
   "source": [
    "![image.png](attachment:image.png)"
   ]
  },
  {
   "cell_type": "markdown",
   "metadata": {
    "id": "EVZp3qYX8NCp"
   },
   "source": [
    "Geometry\n",
    "\n",
    "It is convenient to present the flow domain $\\Omega$ in the form of a parallelepiped $x_i^- < x_i < x_i^+$ ($\\boldsymbol{L} = [l_i] = [x_i^+ - x_i^-]$, $i = 1,2,3$)."
   ]
  },
  {
   "cell_type": "code",
   "execution_count": null,
   "metadata": {
    "id": "Ag9a6Q0z8NCr"
   },
   "outputs": [],
   "source": [
    "# L_1 x L_2 x L_3 flow domain\n",
    "\n",
    "# Normalized coordinates, normalized finite diferences, limits and elementary volume\n",
    "X1N = torch.linspace(0, 1, SIZE)\n",
    "X2N = torch.linspace(0, 1, SIZE)\n",
    "X3N = torch.linspace(0, 1, SIZE)\n",
    "\n",
    "X1_1, X1_2 = torch.meshgrid([X2N, X3N], indexing='ij')\n",
    "X2_1, X2_2 = torch.meshgrid([X1N, X3N], indexing='ij')\n",
    "X3_1, X3_2 = torch.meshgrid([X1N, X2N], indexing='ij')\n",
    "\n",
    "DX1N = (X1N[1] - X1N[0]).to(DEVICE)\n",
    "DX2N = (X2N[1] - X2N[0]).to(DEVICE)\n",
    "DX3N = (X3N[1] - X3N[0]).to(DEVICE)\n",
    "\n",
    "LIM1 = [0, L[0]]\n",
    "LIM2 = [0, L[1]]\n",
    "LIM3 = [0, L[2]]\n",
    "\n",
    "D_OMEGA = (DX1N * DX2N * DX3N * L[0] * L[1] * L[2]).to(DEVICE) # elementary volume"
   ]
  },
  {
   "cell_type": "markdown",
   "metadata": {
    "id": "HZAF4olO8NCt"
   },
   "source": [
    "Boundary conditions\n",
    "1. The values of the flow rates $Q_i(x_i^-)$, $Q_i(x_i^+)$ through the edges $x_i = x_i^-$, $x_i = x_i^+$ of the flow domain are given:"
   ]
  },
  {
   "cell_type": "code",
   "execution_count": null,
   "metadata": {
    "id": "Y-5b9Qhr8NCu"
   },
   "outputs": [],
   "source": [
    "#Flow rates Q1-,Q2-,Q3-\n",
    "QM = [0, 0, -Q_3]\n",
    "\n",
    "#Flow rates Q1+,Q2+,Q3+\n",
    "QP = [0, 0, Q_3]"
   ]
  },
  {
   "cell_type": "markdown",
   "metadata": {
    "id": "QXwdJD6z8NCw"
   },
   "source": [
    "2. NL layers have fixed values of the unknown function $\\boldsymbol\\Psi$."
   ]
  },
  {
   "cell_type": "code",
   "execution_count": null,
   "metadata": {
    "id": "Pw6BTBI_8NCx"
   },
   "outputs": [],
   "source": [
    "DVTEMP = 'sc' # template for the velocity function differentiation\n",
    "\n",
    "if  DVTEMP == 'sc':\n",
    "    NL = 3 + 5\n",
    "elif DVTEMP == 'fc':\n",
    "    NL = 5 + 5"
   ]
  },
  {
   "cell_type": "markdown",
   "metadata": {
    "id": "ZIMWw61h8NCy"
   },
   "source": [
    "$\\boldsymbol\\Psi$ on borders"
   ]
  },
  {
   "cell_type": "code",
   "execution_count": null,
   "metadata": {
    "id": "6JvuTVor8NC0"
   },
   "outputs": [],
   "source": [
    "if USE_3D:\n",
    "    PSIMM = torch.tensor([0, 0, 0]).float()\n",
    "    PSIPP = torch.tensor([QP[2] / (2 * L[1] - L[0]), 2 * QP[2] / (2 * L[1] - L[0]), 0]).float()\n",
    "    # similar to analytical solution for a pipe\n",
    "    PSI_NORM = PSIPP.reshape(3, 1, 1, 1).to(DEVICE)\n",
    "else:\n",
    "    PSIMM = torch.tensor([0, 0, 0]).float()\n",
    "    PSIPP = torch.tensor([0, QP[2] / L[1], 0]).float()\n",
    "    # similar to analytical solution for a pipe\n",
    "    PSI_NORM = PSIPP.reshape(3, 1, 1, 1).to(DEVICE)"
   ]
  },
  {
   "cell_type": "markdown",
   "metadata": {
    "id": "V-hBsye68NC3"
   },
   "source": [
    "Properties of non-Newtonian fluid and walls that are relatively rigid body.\n",
    "The Herschel-Bulkley law is applied:\n",
    "\\begin{equation}\n",
    "    \\mu(H)=q_0+q_1H^{z-1},\n",
    "\\end{equation}\n",
    "where $q_0$, $q_1$, $z$ are the parameters obtained from rheological tests."
   ]
  },
  {
   "cell_type": "code",
   "execution_count": null,
   "metadata": {
    "id": "D57xxnSb8NC4"
   },
   "outputs": [],
   "source": [
    "#Non-Newtonian fluid viscosity\n",
    "if FLUID_TYPE == 'new':\n",
    "    Q0 = 4e-3\n",
    "    Q1 = 0\n",
    "    Z = 1\n",
    "else:\n",
    "    Q0 = 0\n",
    "    Q1 = 0.0132\n",
    "    Z = 0.801\n",
    "# Fluid density, kg/m**3\n",
    "RHO = 1000\n",
    "#Newtonian fluid analogue\n",
    "MU = Q0\n",
    "\n",
    "#Critical Reynolds number\n",
    "Re_cr = 1100\n",
    "\n",
    "#Walls viscosity\n",
    "Q0W = 1e+0#1e-0#1e+3eye \n",
    "Q1W = 0#1e-0\n",
    "ZW =1#0.5"
   ]
  },
  {
   "cell_type": "markdown",
   "metadata": {
    "id": "Hw2AD3oWsfJb"
   },
   "source": [
    "# Additional functions\n",
    "## 3D numerical derivative"
   ]
  },
  {
   "cell_type": "code",
   "execution_count": null,
   "metadata": {
    "id": "cbRxK0w18NC7"
   },
   "outputs": [],
   "source": [
    "def num_diff(f,dx1,dx2,dx3,template='sc'):\n",
    "    '''The following templates are applied:\n",
    "    sc - second-order central difference,\n",
    "    fc - fifth-order central difference.\n",
    "    Indexing:\n",
    "    i - index along x_1,\n",
    "    j - index along x_2,\n",
    "    k - index along x_3.\n",
    "    '''\n",
    "    #Shape\n",
    "    n1, n2, n3 = f.shape\n",
    "    \n",
    "    df_dx1, df_dx2, df_dx3 = torch.zeros(n1, n2, n3), torch.zeros(n1, n2, n3), torch.zeros(n1, n2, n3)\n",
    "    \n",
    "    #Device\n",
    "    if torch.cuda.is_available():\n",
    "        df_dx1 = df_dx1.to('cuda')\n",
    "        df_dx2 = df_dx2.to('cuda')\n",
    "        df_dx3 = df_dx3.to('cuda')\n",
    "    \n",
    "    #Derivatives\n",
    "    if template == 'sc':\n",
    "        # x1 derivative:\n",
    "        df_dx1[1:n1-1,:,:] = (f[2:,:,:] - f[:-2,:,:]) / (2 * dx1)\n",
    "        df_dx1[0,:,:] = (-f[2,:,:] + 4 * f[1,:,:] - 3 * f[0,:,:]) / (2 * dx1)\n",
    "        df_dx1[n1-1,:,:] = (3 * f[n1-1,:,:] - 4 * f[n1-2,:,:] + f[n1-3,:,:]) / (2 * dx1)\n",
    "        # x2 derivative:\n",
    "        df_dx2[:,1:n2-1, :] = (f[:, 2:, :] - f[:, :-2, :]) / (2 * dx2)\n",
    "        df_dx2[:,0, :] = (- f[:,2,:] + 4 * f[:,1,:] - 3 * f[:, 0, :]) / (2 * dx2)\n",
    "        df_dx2[:,n2-1, :] = (3 * f[:, n2 - 1, :] - 4 * f[:, n2 - 2, :] + f[:, n2 - 3, :]) / (2 * dx2)\n",
    "        # x3 derivative:\n",
    "        df_dx3[:, :, 1:n3-1] = (f[:,:,2:] - f[:,:,:-2]) / (2 * dx3)\n",
    "        df_dx3[:, :, 0] = (- f[:, :, 2] + 4 * f[:, :, 1] - 3 * f[:, :, 0]) / (2 * dx3)\n",
    "        df_dx3[:, :, n3-1] = (3 * f[:, :, n3 - 1] - 4 * f[:, :, n3 - 2] + f[:, :, n3 - 3]) / (2 * dx3)\n",
    "    elif template == 'fc':\n",
    "        # x1 derivative\n",
    "        df_dx1[2:n1-2, :, :] = (-f[4:, :,:] + 8 * f[3:n1-1, :, :] - 8 * f[1:n1-3, :, :] + f[:n1-4, :, :]) / (12 * dx1)\n",
    "        df_dx1[0, :, :] = (-3 * f[4, :, :] + 16 * f[3, :, :] - 36 * f[2, :, :] + 48 * f[1, :,:] - 25 * f[0, :, :]) / (12 * dx1)\n",
    "        df_dx1[1, :, :] = (f[4, :, :] - 6 * f[3, :, :] + 18 * f[2, :, :] - 10 * f[1, :, :] - 3 * f[0, :, :]) / (12 * dx1)\n",
    "        df_dx1[n1-2, :, :] = (3 * f[n1-1, :, :] + 10 * f[n1-2, :, :] - 18 * f[n1-3, :, :] + 6 * f[n1-4, :, :] - f[n1-5, :, :]) / (12 * dx1)\n",
    "        df_dx1[n1-1, :, :] = (25 * f[n1-1, :, :] - 48 * f[n1-2, :, :] + 36 * f[n1-3, :, :] - 16 * f[n1-4, :, :] + 3*f[n1-5, :, :]) / (12 * dx1)\n",
    "        \n",
    "        # x2 derivative\n",
    "        df_dx2[:, 2:n2-2, :] = (-f[:, 4:, :] + 8 * f[:, 3:n2-1, :] - 8 * f[:, 1:n2-3, :] + f[:, :n2-4, :]) / (12 * dx2)\n",
    "        df_dx2[:, 0, :] = (-3 * f[:,4, :] + 16 * f[:, 3, :] - 36 * f[:, 2, :] + 48 * f[:, 1, :] - 25 * f[:, 0, :]) / (12*dx2)\n",
    "        df_dx2[:, 1, :] = (f[:, 4, :] - 6 * f[:, 3, :] + 18 * f[:, 2, :] - 10 * f[:, 1, :] - 3 * f[:, 0, :]) / (12*dx2)\n",
    "        df_dx2[:, n2-2, :] = (3 * f[:, n2-1, :] + 10 * f[:, n2-2, :] - 18 * f[:, n2-3, :] + 6 * f[:, n2-4, :] - f[:, n2-5, :]) / (12*dx2)\n",
    "        df_dx2[:, n2-1, :] = (25 * f[:, n2-1, :] - 48 * f[:, n2-2, :] + 36 * f[:, n2-3, :] - 16 * f[:, n2-4, :] + 3 * f[:,n2-5, :]) / (12*dx2)       \n",
    "        # x3 derivative\n",
    "        df_dx3[:, :, 2:n3-2] = (-f[:, :, 4:] + 8 * f[:, :, 3:n3-1] - 8 * f[:, :, 1:n3-3] + f[:, :, :n3-4]) / (12 * dx3)\n",
    "        df_dx3[:, :, 0] = (-3 * f[:, :, 4] + 16 * f[:, :, 3] - 36 * f[:, :, 2] + 48 * f[:, :, 1] - 25 * f[:, :, 0]) / (12 * dx3)\n",
    "        df_dx3[:, :, 1] = (f[:, :, 4] - 6 * f[:, :, 3] + 18 * f[:, :, 2] - 10 * f[:, :, 1] - 3 * f[:, :, 0]) / (12 * dx3)\n",
    "        df_dx3[:, :, n3-2] = (3 * f[:, :, n3-1] + 10 * f[:, :, n3-2] - 18 * f[:, :, n3-3] + 6 * f[:,:,n3-4] - f[:, :, n3-5]) / (12 * dx3)\n",
    "        df_dx3[:, :, n3-1] = (25 * f[:,:, n3-1] - 48 * f[:,:, n3-2] + 36 * f[:,:, n3-3] - 16 * f[:,:, n3-4] + 3*f[:,:, n3-5]) / (12 * dx3)\n",
    "    \n",
    "    return df_dx1, df_dx2, df_dx3"
   ]
  },
  {
   "cell_type": "markdown",
   "metadata": {
    "id": "fg0YoKn58NC9"
   },
   "source": [
    "## 2D numerical derivative"
   ]
  },
  {
   "cell_type": "code",
   "execution_count": null,
   "metadata": {
    "id": "o1AUQWhB8NC-"
   },
   "outputs": [],
   "source": [
    "def num_diff2D(f,dx1,dx2,template=DVTEMP):\n",
    "    '''The following templates are applied:\n",
    "    sc - second-order central difference,\n",
    "    fc - fifth-order central difference.\n",
    "    Indexing:\n",
    "    i - index along x_1,\n",
    "    j - index along x_2.\n",
    "    '''\n",
    "    #Shape\n",
    "    n1, n2 = f.shape\n",
    "    \n",
    "    df_dx1, df_dx2 = torch.zeros(n1, n2), torch.zeros(n1, n2)\n",
    "    \n",
    "    #Device\n",
    "    if torch.cuda.is_available():\n",
    "        df_dx1 = df_dx1.to('cuda')\n",
    "        df_dx2 = df_dx2.to('cuda')\n",
    "            \n",
    "    #Derivatives\n",
    "    if template == 'sc':\n",
    "        # x1 derivative:\n",
    "        df_dx1[1:n1-1,:] = (f[2:,:] - f[:-2,:]) / (2 * dx1)\n",
    "        df_dx1[0,:] = (-f[2,:] + 4 * f[1,:] - 3 * f[0,:]) / (2 * dx1)\n",
    "        df_dx1[n1-1,:] = (3 * f[n1-1,:] - 4 * f[n1-2,:] + f[n1-3,:]) / (2 * dx1)\n",
    "        # x2 derivative:\n",
    "        df_dx2[:,1:n2-1] = (f[:, 2:] - f[:, :-2]) / (2 * dx2)\n",
    "        df_dx2[:,0] = (- f[:,2] + 4 * f[:,1] - 3 * f[:, 0]) / (2 * dx2)\n",
    "        df_dx2[:,n2-1] = (3 * f[:, n2 - 1] - 4 * f[:, n2 - 2] + f[:, n2 - 3]) / (2 * dx2)\n",
    "    elif template == 'fc':\n",
    "        # 1st order x1 derivative:\n",
    "        # x1 derivative\n",
    "        df_dx1[2:n1-2, :] = (-f[4:, :] + 8 * f[3:n1-1, :] - 8 * f[1:n1-3, :] + f[:n1-4, :]) / (12 * dx1)\n",
    "        df_dx1[0, :] = (-3 * f[4, :] + 16 * f[3, :] - 36 * f[2, :] + 48 * f[1, :] - 25 * f[0, :]) / (12 * dx1)\n",
    "        df_dx1[1, :] = (f[4, :] - 6 * f[3, :] + 18 * f[2, :] - 10 * f[1, :] - 3 * f[0, :]) / (12 * dx1)\n",
    "        df_dx1[n1-2, :] = (3 * f[n1-1, :] + 10 * f[n1-2, :] - 18 * f[n1-3, :] + 6 * f[n1-4, :] - f[n1-5, :]) / (12 * dx1)\n",
    "        df_dx1[n1-1, :] = (25 * f[n1-1, :] - 48 * f[n1-2, :] + 36 * f[n1-3, :] - 16 * f[n1-4, :] + 3*f[n1-5, :]) / (12 * dx1)\n",
    "        \n",
    "        # x2 derivative\n",
    "        df_dx2[:, 2:n2-2] = (-f[:, 4:] + 8 * f[:, 3:n2-1] - 8 * f[:, 1:n2-3] + f[:, :n2-4]) / (12 * dx2)\n",
    "        df_dx2[:, 0] = (-3 * f[:,4] + 16 * f[:, 3] - 36 * f[:, 2] + 48 * f[:, 1] - 25 * f[:, 0]) / (12*dx2)\n",
    "        df_dx2[:, 1] = (f[:, 4] - 6 * f[:, 3] + 18 * f[:, 2] - 10 * f[:, 1] - 3 * f[:, 0]) / (12*dx2)\n",
    "        df_dx2[:, n2-2] = (3 * f[:, n2-1] + 10 * f[:, n2-2] - 18 * f[:, n2-3] + 6 * f[:, n2-4] - f[:, n2-5]) / (12*dx2)\n",
    "        df_dx2[:, n2-1] = (25 * f[:, n2-1] - 48 * f[:, n2-2] + 36 * f[:, n2-3] - 16 * f[:, n2-4] + 3 * f[:,n2-5]) / (12*dx2)    \n",
    "    \n",
    "    return df_dx1, df_dx2"
   ]
  },
  {
   "cell_type": "markdown",
   "metadata": {
    "id": "0Bvh641O8NC_"
   },
   "source": [
    "## 3D auto derivative\n",
    "# !!! not implement"
   ]
  },
  {
   "cell_type": "code",
   "execution_count": null,
   "metadata": {
    "id": "u3UdCtzB8NDA"
   },
   "outputs": [],
   "source": [
    "def diff_auto_3d(f, x1, x2, x3):\n",
    "    df_dx1 = autograd.grad(f.sum(), x1[0], create_graph=True)[0]\n",
    "    if len(x1) == 2:\n",
    "        df_dx1 += autograd.grad(f.sum(), x1[1], create_graph=True)[0]\n",
    "    df_dx2 = autograd.grad(f.sum(), x2[0], create_graph=True)[0]\n",
    "    if len(x2) == 2:\n",
    "        df_dx2 += autograd.grad(f.sum(), x2[1], create_graph=True)[0]\n",
    "    df_dx3 = autograd.grad(f.sum(), x3[0], create_graph=True)[0]\n",
    "    if len(x3) == 2:\n",
    "        df_dx3 += autograd.grad(f.sum(), x3[1], create_graph=True)[0]\n",
    "    return df_dx1.reshape(SIZE, SIZE), df_dx2.reshape(SIZE, SIZE), df_dx3.reshape(SIZE, SIZE)"
   ]
  },
  {
   "cell_type": "markdown",
   "metadata": {
    "id": "1iN1BLiE8NDB"
   },
   "source": [
    "## 2D auto derivative"
   ]
  },
  {
   "cell_type": "code",
   "execution_count": null,
   "metadata": {
    "id": "CnYEdPcD8NDC"
   },
   "outputs": [],
   "source": [
    "def diff_auto(f, x1, x2):\n",
    "    df_dx1 = autograd.grad(f.sum(), x1, create_graph=True)[0]\n",
    "    df_dx2 = autograd.grad(f.sum(), x2, create_graph=True)[0]\n",
    "    return df_dx1.reshape(SIZE, SIZE), df_dx2.reshape(SIZE, SIZE)"
   ]
  },
  {
   "cell_type": "markdown",
   "metadata": {
    "id": "mjaFhOwP8NDD"
   },
   "source": [
    "## 3D numerical integration (Simpson method)"
   ]
  },
  {
   "cell_type": "code",
   "execution_count": null,
   "metadata": {
    "id": "l_jWLODo8NDE"
   },
   "outputs": [],
   "source": [
    "def int_func_simpson_3d(f, dx, dy, dz):\n",
    "    '''\n",
    "    f - 3d-dimentional tensor\n",
    "    dx, dy, dz - constant step along the corresponding coordinate\n",
    "    '''\n",
    "    n1,n2,n3 = f.shape\n",
    "    # integrate by dz:\n",
    "    if n3%2 == 0:\n",
    "        J3 = (f[:,:,0:n3-2:2] + 4*f[:,:,1:n3-2:2] + f[:,:,2::2]).sum(dim=2)*dz/3 + (f[:,:,-1]+f[:,:,-2])*dz/2\n",
    "    else:\n",
    "        J3 = (f[:,:,0:n3-1:2] + 4*f[:,:,1:n3-1:2] + f[:,:,2::2]).sum(dim=2)*dz/3\n",
    "\n",
    "    # integrate by dy:\n",
    "    if n2%2 == 0:\n",
    "        J2 = (J3[:,0:n2-2:2] + 4*J3[:,1:n2-2:2] + J3[:,2::2]).sum(dim=1)*dy/3 + (J3[:,-1]+J3[:,-2])*dy/2\n",
    "    else:\n",
    "        J2 = (J3[:,0:n2-1:2] +4 *J3[:,1:n2-1:2] + J3[:,2::2]).sum(dim=1)*dy/3\n",
    "\n",
    "    # integrate by dx:\n",
    "    if n1%2 == 0:\n",
    "        J1 = (J2[0:n1-2:2] + 4*J2[1:n1-2:2] + J2[2::2]).sum(dim=0)*dx/3 + (J2[-1]+J2[-2])*dx/2\n",
    "    else:\n",
    "        J1 = (J2[0:n1-1:2] + 4*J2[1:n1-1:2] + J2[2::2]).sum(dim=0)*dx/3\n",
    "\n",
    "    return J1"
   ]
  },
  {
   "cell_type": "markdown",
   "metadata": {
    "id": "HEoCvq-c8NDF"
   },
   "source": [
    "## 2D numerical integration (Simpson method)"
   ]
  },
  {
   "cell_type": "code",
   "execution_count": null,
   "metadata": {
    "id": "3F9CPRht8NDG"
   },
   "outputs": [],
   "source": [
    "def int_func_simpson_2d(f, dx, dy):\n",
    "    '''\n",
    "    f - 2d-dimentional tensor\n",
    "    dx, dy - constant step along the corresponding coordinate\n",
    "    '''\n",
    "    n1, n2 = f.shape\n",
    "    # integrate by dy:\n",
    "    if n2%2 == 0:\n",
    "        J2 = (f[:,0:n2-2:2]+ 4*f[:,1:n2-2:2] + f[:,2::2]).sum(dim=1)*dy/3 + (f[:,-1]+f[:,-2])*dy/2\n",
    "    else:\n",
    "        J2 = (f[:,0:n2-1:2] +4*f[:,1:n2-1:2]+f[:,2::2]).sum(dim=1)*dy/3\n",
    "    # integrate by dx:\n",
    "    if n1%2 == 0:\n",
    "        J1 = (J2[0:n1-2:2]+ 4*J2[1:n1-2:2] + J2[2::2]).sum(dim=0)*dx/3 + (J2[-1]+J2[-2])*dx/2\n",
    "    else:\n",
    "        J1 = (J2[0:n1-1:2] +4*J2[1:n1-1:2]+J2[2::2]).sum(dim=0)*dx/3\n",
    "    return J1"
   ]
  },
  {
   "cell_type": "markdown",
   "metadata": {
    "id": "iEbSoVGo8NDH"
   },
   "source": [
    "# Visualization functions"
   ]
  },
  {
   "cell_type": "code",
   "execution_count": null,
   "metadata": {
    "id": "kZSa_Aov8NDI"
   },
   "outputs": [],
   "source": [
    "def vector_plot(x, y, u, v, gradmag, FIGSIZE, vptitle='vector_plot', xlabel='$x_i$', ylabel='$x_j$',step=10):\n",
    "    \n",
    "    plt.pcolor(x, y, gradmag, cmap='rainbow')\n",
    "    plt.colorbar()\n",
    "    plt.quiver(x[::step,::step], y[::step,::step], u[::step,::step], v[::step,::step])\n",
    "    plt.xlabel(xlabel)\n",
    "    plt.ylabel(ylabel)\n",
    "    plt.title(vptitle)\n",
    "    \n",
    "    \n",
    "def vector_plot_3d(x, v, v_abs, figSize=FIGSIZE, step=1, use_color=False, use_full_mask=False):\n",
    "    fig = plt.figure(figsize=(figSize, figSize))\n",
    "    ax = fig.add_subplot(projection='3d')\n",
    "    if SIZE == 64:\n",
    "        s = 1\n",
    "    elif SIZE == 128:\n",
    "        s = 0.1\n",
    "    elif SIZE == 256:\n",
    "        s = 0.01\n",
    "    else:\n",
    "        s = 0.1\n",
    "    norm = plt.Normalize()\n",
    "    colors = plt.cm.jet(norm(v_abs[::step, ::step, ::step]))\n",
    "    \n",
    "    x_scatter = np.meshgrid(np.arange(0, SIZE),\n",
    "                            np.arange(0, SIZE),\n",
    "                            np.arange(0, SIZE), indexing='ij')\n",
    "    \n",
    "    if use_full_mask:\n",
    "        indices = MASK[0].cpu().detach() == 1\n",
    "        ax.scatter(x_scatter[0][indices],\n",
    "                   x_scatter[1][indices],\n",
    "                   x_scatter[2][indices], c='red', s=s * 50, alpha=0.2)\n",
    "    else:\n",
    "        indices = MASK_CONTOUR[0].cpu().detach() == 1\n",
    "        ax.scatter(x_scatter[0][indices],\n",
    "                   x_scatter[1][indices],\n",
    "                   x_scatter[2][indices], c='red', s=s * 50, alpha=0.2)\n",
    "        \n",
    "    ax.quiver(x[0], x[1], x[2], v[::step, ::step, ::step, 0],\n",
    "              v[::step, ::step, ::step, 1],\n",
    "              v[::step, ::step, ::step, 2],\n",
    "              color=colors.reshape(-1, 4) if use_color else 'b', length=10)\n",
    "    \n",
    "    ax.set_xticks([])\n",
    "    ax.set_yticks([])\n",
    "    ax.set_zticks([])\n",
    "    ax.set_xlabel(f'$x_1$')\n",
    "    ax.set_ylabel(f'$x_2$')\n",
    "    ax.set_zlabel(f'$x_3$')\n",
    "    ax.bar3d(0, 0, 0., SIZE, SIZE, SIZE, alpha=0.1, edgecolor='black', color='black')\n",
    "    plt.show()\n",
    "    \n",
    "    \n",
    "def flowVisualization(psi, v1, v2, v3, v_abs, step=15,slices=SLICES, use_mask=False):\n",
    "    nr=2\n",
    "    nc=3\n",
    "    \n",
    "    if use_mask:\n",
    "        psi[0, 0, PSI_1_INIT[0] == PSI_1_INIT[0].min()] = 0\n",
    "        psi[0, 1, PSI_2_INIT[0] == PSI_2_INIT[0].max()] = 0\n",
    "        psi[0, 2, PSI_3_INIT[0] == 0] = 0\n",
    "    #Velocity distribution\n",
    "    v = torch.stack([v1, v2, v3])\n",
    "    \n",
    "    indices = [1, 2, 0, 2, 0, 1]\n",
    "    \n",
    "    print('Psi function Visualization')\n",
    "    fig = plt.figure(figsize=(FIGSIZE*nc, FIGSIZE*nr))\n",
    "    for i in range(3):\n",
    "        plt.subplot(nr,nc,i+1)\n",
    "        plt.imshow(psi[0,i,::], extent=(0, L[indices[i * nr + 1]], L[indices[i * nr ]], 0), aspect='auto')\n",
    "        plt.ylabel(f'$x_{indices[i * nr] + 1}$')\n",
    "        plt.xlabel(f'$x_{indices[i * nr + 1] + 1}$')\n",
    "        plt.title(f'$\\psi_{i+1}$')\n",
    "        plt.subplot(nr,nc,i+1+nc)\n",
    "        plt.plot(X2N * L[1] if not i else X1N * L[0], psi[0,i,:,slices[i]])\n",
    "        plt.title(f'$x_{indices[i * nr + 1] + 1} = const$')\n",
    "        plt.xlabel(f'$x_{indices[i * nr] + 1}$')\n",
    "        plt.ylabel(f'$\\psi_{i+1}$')\n",
    "        plt.grid()\n",
    "    plt.show()\n",
    "    \n",
    "    \n",
    "    fig = plt.figure(figsize=(FIGSIZE*nc, FIGSIZE*1))\n",
    "    for i in range(3):\n",
    "        plt.subplot(1,nc,i+1)\n",
    "        plt.plot(X2N * L[1] if i == 2 else X3N * L[0], torch.ones(SIZE) * PSIMM[i])\n",
    "        plt.plot(X2N * L[1] if i == 2 else X3N * L[0], torch.ones(SIZE) * PSIPP[i])\n",
    "        if i < 2:\n",
    "            plt.plot(X2N * L[1] if i == 2 else X3N * L[0], psi[0,i,PSI_CONTOUR_MM[i] == 1])\n",
    "            plt.plot(X2N * L[1] if i == 2 else X3N * L[0], psi[0,i,PSI_CONTOUR_PP[i] == 1])\n",
    "        plt.title(f'Boundary $\\psi_{i + 1}$')\n",
    "        plt.xlabel(f'$x_{indices[i * nr + 1] + 1}$')\n",
    "        plt.ylabel(f'$\\psi_{i+1}$')\n",
    "        plt.legend(['$\\psi_m$ gt', '$\\psi_p$ gt', '$\\psi_m$ pred', '$\\psi_p$ pred'])\n",
    "        plt.grid()\n",
    "    plt.show()\n",
    "\n",
    "    psi1_mm = psi[0, 0, PSI_CONTOUR_MM[0, :, 0].argmax(), 0]\n",
    "    psi1_pm = psi[0, 0, PSI_CONTOUR_PP[0, :, 0].argmax(), 0]\n",
    "    psi1_mp = psi[0, 0, PSI_CONTOUR_MM[0, :, -1].argmax(), -1]\n",
    "    psi1_pp = psi[0, 0, PSI_CONTOUR_PP[0, :, -1].argmax(), -1]\n",
    "    \n",
    "    psi2_mm = psi[0, 1, PSI_CONTOUR_MM[1, :, 0].argmax(), 0]\n",
    "    psi2_pm = psi[0, 1, PSI_CONTOUR_PP[1, :, 0].argmax(), 0]\n",
    "    psi2_mp = psi[0, 1, PSI_CONTOUR_MM[1, :, -1].argmax(), -1]\n",
    "    psi2_pp = psi[0, 1, PSI_CONTOUR_PP[1, :, -1].argmax(), -1]\n",
    "\n",
    "    psi3_mm = psi[0, 2, PSI_CONTOUR_MM[2, :, 0].argmax(), 0]\n",
    "    psi3_pm = psi[0, 2, PSI_CONTOUR_PP[2, :, 0].argmax(), 0]\n",
    "    psi3_mp = psi[0, 2, PSI_CONTOUR_MM[2, :, -1].argmax(), -1]\n",
    "    psi3_pp = psi[0, 2, PSI_CONTOUR_PP[2, :, -1].argmax(), -1]\n",
    "\n",
    "\n",
    "    print(f'Q1+ = {- (psi2_pp - psi2_pm) * L[1] + (psi3_pp - psi3_pm) * L[2]}, target value: {QP[0]},')\n",
    "    print(f'Q2+ = {- (psi3_pp - psi3_mp) * L[2] + (psi1_pp - psi1_pm) * L[0]}, target value: {QP[1]},')\n",
    "    print(f'Q3+ = {- (psi1_pp - psi1_mp) * L[0] + (psi2_pp - psi2_mp) * L[1]}, target value: {QP[2]}')\n",
    "    \n",
    "#     print(f'Q1+ = {- (psi[0,1,-1,-1] - psi[0,1,-1,0]) * L[1] + (psi[0,2,-1,-1]\n",
    "#                    - psi[0,2,-1,0]) * L[2]}, target value: {QP[0]},')\n",
    "#     print(f'Q2+ = {- (psi[0,2,-1,-1] - psi[0,2,0,-1]) * L[2] + (psi[0,0,-1,-1]\n",
    "#                    - psi[0,0,-1,0]) * L[0]}, target value: {QP[1]},')\n",
    "#     print(f'Q3+ = {- (psi[0,0,-1,-1] - psi[0,0,0,-1]) * L[0] + (psi[0,1,-1,-1]\n",
    "#                    - psi[0,1,0,-1]) * L[1]}, target value: {QP[2]}')\n",
    "    \n",
    "    print()\n",
    "    print('Velocity distribution visualization without flow domain mask (first line) and with mask (second line)')\n",
    "\n",
    "    XN = torch.meshgrid(X1N * L[0], X2N * L[1], X3N * L[2], indexing='ij')\n",
    "    \n",
    "    fig1 = plt.figure(figsize=(FIGSIZE*nc, FIGSIZE*nr))\n",
    "    #without flow domain mask \n",
    "    plt.subplot(nr,nc,1)\n",
    "    vector_plot(XN[2][slices[0],:,:], XN[1][slices[0],:,:], v[2,slices[0],:,:] / L[2], v[1,slices[0],:,:] / L[1],\n",
    "                np.sqrt(v[2,slices[0],:,:]**2 + v[1,slices[0],:,:]**2),\n",
    "                FIGSIZE, vptitle='$x_1 = const$', xlabel='$x_3$', ylabel='$x_2$', step=step)\n",
    "    plt.subplot(nr,nc,2)\n",
    "    vector_plot(XN[2][:,slices[1],:], XN[0][:,slices[1],:], v[2,:,slices[1],:] / L[2], v[0,:,slices[1],:] / L[0],\n",
    "                np.sqrt(v[2,:,slices[1],:]**2 + v[0,:,slices[1],:]**2),\n",
    "                FIGSIZE, vptitle='$x_2 = const$', xlabel='$x_3$', ylabel='$x_1$', step=step)\n",
    "    plt.subplot(nr,nc,3)\n",
    "    vector_plot(XN[1][:,:,slices[2]], XN[0][:,:,slices[2]], v[1,:,:,slices[2]] / L[1], v[0,:,:,slices[2]] / L[0],\n",
    "                np.sqrt(v[1,:,:,slices[2]]**2 + v[0,:,:,slices[2]]**2),\n",
    "                FIGSIZE, vptitle='$x_3 = const$', xlabel='$x_2$', ylabel='$x_1$', step=step)\n",
    "    #with flow domain mask \n",
    "    plt.subplot(nr,nc,4)\n",
    "    vector_plot(XN[2][0,:,:], XN[1][0,:,:], v[2,slices[0],:,:] * MASK[0,slices[0],:,:].to('cpu') / L[2],\n",
    "                v[1,slices[0],:,:] * MASK[0,slices[0],:,:].to('cpu') / L[1],\n",
    "                np.sqrt(v[2,slices[0],:,:]**2 + v[1,slices[0],:,:]**2) * MASK[0,slices[0],:,:].to('cpu'),\n",
    "                FIGSIZE, vptitle='$x_1 = const$', xlabel='$x_3$', ylabel='$x_2$', step=step)\n",
    "    plt.subplot(nr,nc,5)\n",
    "    vector_plot(XN[2][:,0,:], XN[0][:,0,:], v[2,:,slices[1],:] * MASK[0,:,slices[1],:].to('cpu') / L[2],\n",
    "                v[0,:,slices[1],:] * MASK[0,:,slices[1],:].to('cpu') / L[0],\n",
    "                np.sqrt(v[2,:,slices[1],:]**2 + v[0,:,slices[1],:]**2) * MASK[0,:,slices[1],:].to('cpu'),\n",
    "                FIGSIZE, vptitle='$x_2 = const$', xlabel='$x_3$', ylabel='$x_1$', step=step)\n",
    "    plt.subplot(nr,nc,6)\n",
    "    vector_plot(XN[1][:,:,0], XN[0][:,:,0], v[1,:,:,slices[2]] * MASK[0,:,:,slices[2]].to('cpu') / L[1],\n",
    "                v[0,:,:,slices[2]] * MASK[0,:,:,slices[2]].to('cpu') / L[0],\n",
    "                np.sqrt(v[1,:,:,slices[2]]**2 + v[0,:,:,slices[2]]**2) * MASK[0,:,:,slices[2]].to('cpu'),\n",
    "                FIGSIZE, vptitle='$x_3 = const$', xlabel='$x_2$', ylabel='$x_1$', step=step)\n",
    "    plt.show()\n",
    "    \n",
    "    #Check the flow rates Q3-,Q3+\n",
    "    Q1mch = int_func_simpson_2d((v * MASK[0].cpu())[0, 0, :, :], L[1] * DX2N.to('cpu'), L[2] * DX3N.to('cpu'))\n",
    "    Q1pch = int_func_simpson_2d((v * MASK[0].cpu())[0,-1, :, :], L[1] * DX2N.to('cpu'), L[2] * DX3N.to('cpu'))\n",
    "    \n",
    "    Q2mch = int_func_simpson_2d((v * MASK[0].cpu())[1, :, 0, :], L[0] * DX1N.to('cpu'), L[2] * DX3N.to('cpu'))\n",
    "    Q2pch = int_func_simpson_2d((v * MASK[0].cpu())[1, :,-1, :], L[0] * DX1N.to('cpu'), L[2] * DX3N.to('cpu'))\n",
    "    \n",
    "    Q3mch = int_func_simpson_2d((v * MASK[0].cpu())[2, :, :, 0], L[0] * DX1N.to('cpu'), L[1] * DX2N.to('cpu'))\n",
    "    Q3pch = int_func_simpson_2d((v * MASK[0].cpu())[2, :, :,-1], L[0] * DX1N.to('cpu'), L[1] * DX2N.to('cpu'))\n",
    "    \n",
    "    print(f'{v[0].min()} < v_1 < {v[0].max()},')\n",
    "    print(f'{v[1].min()} < v_2 < {v[1].max()},')\n",
    "    print(f'{v[2].min()} < v_3 < {v[2].max()},')\n",
    "    print(f'Q1- = {Q1mch}, Q1+ = {Q1pch}')\n",
    "    print(f'Q2- = {Q2mch}, Q2+ = {Q2pch}')\n",
    "    print(f'Q3- = {Q3mch}, Q3+ = {Q3pch}')\n",
    "    \n",
    "    print(f'v_abs[0,0,0] = {v_abs[0,0,0]}, v_abs[0,0,-1] = {v_abs[0,0,-1]}, v_abs[0,-1,0] = {v_abs[0,-1,0]}, v_abs[0,-1,-1] = {v_abs[0,-1,-1]}, v_abs[-1,0,0] = {v_abs[-1,0,0]}, v_abs[-1,0,-1] = {v_abs[-1,0,-1]}, v_abs[-1,-1,0] = {v_abs[-1,-1,0]}, v_abs[-1,-1,-1] = {v_abs[-1,-1,-1]},')\n",
    "    \n",
    "    print()\n",
    "    print('Boundary velocity check')\n",
    "    \n",
    "    plt.figure(figsize=(FIGSIZE, FIGSIZE))\n",
    "    plt.title('${v_{abs}}$ on boundary')\n",
    "    plt.boxplot(v_abs[MASK_CONTOUR[0].cpu() == 1].cpu().detach().numpy(), labels=['${v_{abs}}$'])\n",
    "    plt.show()\n",
    "  \n",
    "    return\n",
    "\n",
    "\n",
    "def v_contours_and_slices(v, ind):\n",
    "    fig = plt.figure(figsize=(FIGSIZE * 3, FIGSIZE * 3))\n",
    "\n",
    "    plt.subplot(3,3,1)\n",
    "    plt.title('$v_{' + str(ind) + '}$' + f'$(x_1=const,x_2,x_3)$')\n",
    "    plt.imshow(v[SLICES[0],:,:], extent=(0, L[2], L[1], 0), aspect='auto')\n",
    "    plt.ylabel('$x_2$')\n",
    "    plt.xlabel('$x_3$')\n",
    "    plt.colorbar()\n",
    "\n",
    "    plt.subplot(3,3,2)\n",
    "    plt.plot(X3N * L[2], v[SLICES[0],SLICES[1],:])\n",
    "    plt.title(f'$(x_1=const,x_2=const,x_3)$')\n",
    "    plt.ylabel('$v_{' + str(ind) + '}$')\n",
    "    plt.xlabel('$x_3$')\n",
    "    plt.grid()\n",
    "\n",
    "    plt.subplot(3,3,3)\n",
    "    plt.plot(X2N * L[1], v[SLICES[0],:,SLICES[2]])\n",
    "    plt.title(f'$(x_1=const,x_2,x_3=const)$')\n",
    "    plt.ylabel('$v_{' + str(ind) + '}$')\n",
    "    plt.xlabel('$x_2$')\n",
    "    plt.grid()\n",
    "\n",
    "\n",
    "    plt.subplot(3,3,4)\n",
    "    plt.title('$v_{' + str(ind) + '}$' + f'$(x_1,x_2=const,x_3)$')\n",
    "    plt.imshow(v[:,SLICES[1],:], extent=(0, L[2], L[0], 0), aspect='auto')\n",
    "    plt.ylabel('$x_1$')\n",
    "    plt.xlabel('$x_3$')\n",
    "    plt.colorbar()\n",
    "\n",
    "    plt.subplot(3,3,5)\n",
    "    plt.plot(X3N * L[2], v[SLICES[0],SLICES[1],:])\n",
    "    plt.title(f'$(x_1=const,x_2=const,x_3)$')\n",
    "    plt.ylabel('$v_{' + str(ind) + '}$')\n",
    "    plt.xlabel('$x_3$')\n",
    "    plt.grid()\n",
    "\n",
    "    plt.subplot(3,3,6)\n",
    "    plt.plot(X1N * L[0], v[:,SLICES[1],SLICES[2]])\n",
    "    plt.title(f'$(x_1,x_2=const,x_3=const)$')\n",
    "    plt.ylabel('$v_{' + str(ind) + '}$')\n",
    "    plt.xlabel('$x_1$')\n",
    "    plt.grid()\n",
    "\n",
    "\n",
    "    plt.subplot(3,3,7)\n",
    "    plt.title('$v_{' + str(ind) + '}$' + f'$(x_1,x_2,x_3=const)$')\n",
    "    plt.imshow(v[:,:,SLICES[2]], extent=(0, L[1], L[0], 0), aspect='auto')\n",
    "    plt.ylabel('$x_1$')\n",
    "    plt.xlabel('$x_2$')\n",
    "    plt.colorbar()\n",
    "\n",
    "    plt.subplot(3,3,8)\n",
    "    plt.plot(X2N * L[1], v[SLICES[0],:,SLICES[2]])\n",
    "    plt.title(f'$(x_1=const,x_2,x_3=const)$')\n",
    "    plt.ylabel('$v_{' + str(ind) + '}$')\n",
    "    plt.xlabel('$x_2$')\n",
    "    plt.grid()\n",
    "\n",
    "    plt.subplot(3,3,9)\n",
    "    plt.plot(X1N * L[0], v[:,SLICES[1],SLICES[2]])\n",
    "    plt.title(f'$(x_1,x_2=const,x_3=const)$')\n",
    "    plt.ylabel('$v_{' + str(ind) + '}$')\n",
    "    plt.xlabel('$x_1$')\n",
    "    plt.grid()\n",
    "    plt.subplots_adjust(wspace=0.35)\n",
    "    plt.show()\n",
    "    \n",
    "    \n",
    "def v_surf(v, x1, x2, ind):\n",
    "    fig, ax = plt.subplots(figsize=(FIGSIZE*2, FIGSIZE*2),subplot_kw={\"projection\": \"3d\"})\n",
    "    surf = ax.plot_surface(np.array(x1),np.array(x2), np.array(v[:,:,SLICES[2]]),\n",
    "                           cmap=cm.coolwarm, linewidth=0, antialiased=False)\n",
    "    plt.title('$v_{' + str(ind) + '}$' + f'$(x_1,x_2,x_3=const)$')\n",
    "    ax.set_xlabel(f'$x_1$')\n",
    "    ax.set_ylabel(f'$x_2$')\n",
    "    ax.set_zlabel('$v_{' + str(ind) + '}$')\n",
    "    fig.colorbar(surf, shrink=0.5, aspect=5)\n",
    "    plt.show()"
   ]
  },
  {
   "cell_type": "markdown",
   "metadata": {
    "id": "mH8zURs8A1Sr"
   },
   "source": [
    "# Major functions\n",
    "\n",
    "For any given function $\\boldsymbol\\Psi = [\\psi_i]$ that has fixed values on the boundaries of the flow domain together with its first, second, and third derivatives, the velocity distribution can be expressed in compact or in expanded form, respectively:\n",
    "\\begin{equation} \n",
    "    \\boldsymbol{V} = \n",
    "    \\begin{bmatrix}\n",
    "    \\epsilon_{ijk}\n",
    "    \\frac{\\partial \\psi_k(x_i,x_j)}{\\partial x_j}\n",
    "    \\end{bmatrix},\n",
    "\\end{equation}\n",
    "where $\\epsilon_{ijk}$ is the Levi-Civita symbol,\n",
    "\n",
    "\\begin{equation} \n",
    "    \\boldsymbol{V} = \n",
    "    \\begin{bmatrix}\n",
    "    \\frac{\\partial \\psi_3}{\\partial x_2} - \\frac{\\partial \\psi_2}{\\partial x_3}, &\n",
    "    \\frac{\\partial \\psi_1}{\\partial x_3} - \\frac{\\partial \\psi_3}{\\partial x_1}, &\n",
    "    \\frac{\\partial \\psi_2}{\\partial x_1} - \\frac{\\partial \\psi_1}{\\partial x_2}\n",
    "    \\end{bmatrix}.\n",
    "\\end{equation} "
   ]
  },
  {
   "cell_type": "code",
   "execution_count": null,
   "metadata": {
    "id": "WMUIipgs5t3Q"
   },
   "outputs": [],
   "source": [
    "def velocityDistr(psi1,psi2,psi3,dx1n,dx2n,dx3n,deltax1,deltax2,deltax3, x=None):\n",
    "    '''Velocity distribution [v_i] in the flow domain\n",
    "    '''\n",
    "    #Psi function and it's partial derivatives are 2D functions\n",
    "    if x is None:\n",
    "        dpsi2dx1, dpsi2dx3 = num_diff2D(psi2, dx1n, dx3n)\n",
    "        if USE_3D:\n",
    "            dpsi1dx2, dpsi1dx3 = num_diff2D(psi1, dx2n, dx3n)\n",
    "            dpsi3dx1, dpsi3dx2 = num_diff2D(psi3, dx1n, dx2n)\n",
    "    else:\n",
    "        dpsi2dx1, dpsi2dx3 = diff_auto(psi2, x[2], x[3])\n",
    "        if USE_3D:\n",
    "            dpsi1dx2, dpsi1dx3 = diff_auto(psi1, x[0], x[1])\n",
    "            dpsi3dx1, dpsi3dx2 = diff_auto(psi3, x[4], x[5])\n",
    "    \n",
    "    #Expand into 3D, then calculate the velocity distribution\n",
    "    \n",
    "    if USE_3D:\n",
    "        dpsi2dx1 = torch.unsqueeze(dpsi2dx1,1)\n",
    "        dpsi2dx3 = torch.unsqueeze(dpsi2dx3,1)\n",
    "        \n",
    "        dpsi3dx1 = torch.unsqueeze(dpsi3dx1,2)\n",
    "        dpsi3dx2 = torch.unsqueeze(dpsi3dx2,2)\n",
    "\n",
    "        dpsi1dx2 = torch.unsqueeze(dpsi1dx2,0)\n",
    "        dpsi1dx3 = torch.unsqueeze(dpsi1dx3,0)\n",
    "    if USE_3D:\n",
    "        v1 = (dpsi3dx2.expand(-1,-1,SIZE) / deltax2) - (dpsi2dx3.expand(-1,SIZE,-1) / deltax3)\n",
    "        v2 = (dpsi1dx3.expand(SIZE,-1,-1) / deltax3) - (dpsi3dx1.expand(-1,-1,SIZE) / deltax1)\n",
    "        v3 = (dpsi2dx1.expand(-1,SIZE,-1) / deltax1) - (dpsi1dx2.expand(SIZE,-1,-1) / deltax2)\n",
    "    else:\n",
    "        v1 =  - (dpsi2dx3 / deltax3)\n",
    "        v2 = 0\n",
    "        v3 = (dpsi2dx1 / deltax1)\n",
    "    \n",
    "    return v1, v2, v3"
   ]
  },
  {
   "cell_type": "markdown",
   "metadata": {
    "id": "m8U7_Ezo8NDO"
   },
   "source": [
    "Taking into account the symmetry of the shear rate tensor $\\xi_{i,j}=\\xi_{i,j}$, the tensor has the following form:\n",
    "\n",
    "\\begin{equation}\n",
    "    \\boldsymbol{T}_\\xi= \\frac{1}{2}   \n",
    "    \\begin{bmatrix}\n",
    "    2\\frac{\\partial v_1}{\\partial x_1}, & \\frac{\\partial v_1}{\\partial x_2} - \\frac{\\partial v_2}{\\partial x_1}, & \\frac{\\partial v_1}{\\partial x_3} - \\frac{\\partial v_3}{\\partial x_1} \\\\\n",
    "     \\frac{\\partial v_1}{\\partial x_2} - \\frac{\\partial v_2}{\\partial x_1}, & 2\\frac{\\partial v_2}{\\partial x_2}, & \\frac{\\partial v_2}{\\partial x_3} - \\frac{\\partial v_3}{\\partial x_2}  \\\\\n",
    "    \\frac{\\partial v_1}{\\partial x_3} - \\frac{\\partial v_3}{\\partial x_1}, & \\frac{\\partial v_2}{\\partial x_3} - \\frac{\\partial v_3}{\\partial x_2},  & 2\\frac{\\partial v_3}{\\partial x_3}  \\\\\n",
    "    \\end{bmatrix}.\n",
    "\\end{equation}\n",
    "\n",
    "In the general case of a three dimensional flow the shear strain rate intensity $H$ depends on all the components of the shear rate tensor:\n",
    "\\begin{equation}\n",
    "    H =\\sqrt{2(\\xi_{11}^2 + \\xi_{22}^2 + \\xi_{33}^2 + 2\\xi_{12}^2 + 2\\xi_{13}^2 + 2\\xi_{23}^2)}. \n",
    "\\end{equation}"
   ]
  },
  {
   "cell_type": "code",
   "execution_count": null,
   "metadata": {
    "id": "716qlRJoNglx"
   },
   "outputs": [],
   "source": [
    "def TksiDistr(v1,v2,v3,dx1n,dx2n,dx3n,deltax1,deltax2,deltax3, x=None):\n",
    "    '''Strain rate tensor Txi and the shear rate intensity Eta squared\n",
    "    '''\n",
    "    if USE_3D:\n",
    "        dv1dx1, dv1dx2, dv1dx3 = num_diff(v1, dx1n, dx2n, dx3n)\n",
    "        dv2dx1, dv2dx2, dv2dx3 = num_diff(v2, dx1n, dx2n, dx3n)\n",
    "        dv3dx1, dv3dx2, dv3dx3 = num_diff(v3, dx1n, dx2n, dx3n)\n",
    "    #     if x is None:\n",
    "    #         dv1dx1, dv1dx2, dv1dx3 = num_diff(v1, dx1n, dx2n, dx3n)\n",
    "    #         dv2dx1, dv2dx2, dv2dx3 = num_diff(v2, dx1n, dx2n, dx3n)\n",
    "    #         dv3dx1, dv3dx2, dv3dx3 = num_diff(v3, dx1n, dx2n, dx3n)\n",
    "    #     else:\n",
    "    #         dv1dx1, dv1dx2, dv1dx3 = diff_auto_3d(v1, [x[2], x[4]], [x[5]], [x[3]])\n",
    "    #         dv2dx1, dv2dx2, dv2dx3 = diff_auto_3d(v2, [x[4]], [x[0], x[5]], [x[1]])\n",
    "    #         dv3dx1, dv3dx2, dv3dx3 = diff_auto_3d(v3, [x[2]], [x[0]], [x[1], x[3]])\n",
    "    else:\n",
    "        if x is None:\n",
    "            dv1dx1, dv1dx3 = num_diff2D(v1, dx1n, dx3n)\n",
    "            dv3dx1, dv3dx3 = num_diff2D(v3, dx1n, dx3n)\n",
    "        else:\n",
    "            dv1dx1, dv1dx3 = diff_auto(v1, x[2], x[3])\n",
    "            dv3dx1, dv3dx3 = diff_auto(v3, x[2], x[3])\n",
    "    \n",
    "    #Txi\n",
    "    xi11 = dv1dx1 / deltax1\n",
    "    xi12 = 0.5 * ((dv1dx2 / deltax2) + (dv2dx1 / deltax1)) if USE_3D else 0\n",
    "    xi13 = 0.5 * ((dv1dx3 / deltax3) + (dv3dx1 / deltax1))\n",
    "    \n",
    "    xi22 = dv2dx2 / deltax2 if USE_3D else 0\n",
    "    xi23 = 0.5 * ((dv2dx3 / deltax3) + (dv3dx2 / deltax2)) if USE_3D else 0\n",
    "    \n",
    "    xi33 = dv3dx3 / deltax3\n",
    "    \n",
    "    #Eta^2    \n",
    "    EtaEta = (2 * (xi11 * xi11 + xi22 * xi22 + xi33 * xi33 + \n",
    "                   2 * (xi12 * xi12 + xi13 * xi13 + xi23 * xi23)))\n",
    "  \n",
    "    return xi11, xi12, xi13, xi22, xi23, xi33, EtaEta"
   ]
  },
  {
   "cell_type": "code",
   "execution_count": null,
   "metadata": {
    "id": "jiUrZJSR8NDQ"
   },
   "outputs": [],
   "source": [
    "def divVel(v1,v2,v3,dx1n,dx2n,dx3n,deltax1,deltax2,deltax3):\n",
    "    \n",
    "    dv1dx1, dv1dx2, dv1dx3 = num_diff(v1, dx1n, dx2n, dx3n)\n",
    "    dv2dx1, dv2dx2, dv2dx3 = num_diff(v2, dx1n, dx2n, dx3n)\n",
    "    dv3dx1, dv3dx2, dv3dx3 = num_diff(v3, dx1n, dx2n, dx3n)\n",
    "    \n",
    "    divV = dv1dx1 + dv2dx2 + dv3dx3\n",
    "    \n",
    "    return dv1dx1, dv2dx2, dv3dx3, divV"
   ]
  },
  {
   "cell_type": "code",
   "execution_count": null,
   "metadata": {
    "id": "i5MKY0oT8ND1"
   },
   "outputs": [],
   "source": [
    "def inference(psi, x, analytical=False):\n",
    "\n",
    "    if (W_B == 0) and (not analytical):\n",
    "        for i in range(3):\n",
    "            if USE_SINGLE_BOUNDARY:\n",
    "                if PSIPP[i] != 0:\n",
    "                    psi[i,:, PSI_CONTOUR_MM[i] == 1] = PSIMM[i]\n",
    "                    psi[i,:, PSI_CONTOUR_PP[i] == 1] = PSIPP[i]\n",
    "            else:\n",
    "                psi[i,:,:NL,:]  = PSIMM[i]\n",
    "                psi[i,:,-NL:,:] = PSIPP[i]\n",
    "\n",
    "    v1, v2, v3 = velocityDistr(psi[0,0,:,:], psi[1,0,:,:], psi[2,0,:,:],\n",
    "                               DX1N, DX2N, DX3N, L[0], L[1], L[2], x if DIFF_AUTO else None)\n",
    "    \n",
    "    xi11, xi12, xi13, xi22, xi23, xi33, EtaEta = TksiDistr(v1, v2, v3, DX1N, DX2N, DX3N,\n",
    "                                                           L[0], L[1], L[2], x if DIFF_AUTO else None)\n",
    "\n",
    "    #Subintegral expression with masks for fluid and walls, respectively:\n",
    "    mask = MASK[0,:,:,:] if USE_3D else MASK[0,:,0,:]\n",
    "    subInt = ((0.5 * Q0 * EtaEta + ((Q1 /(Z + 1)) * EtaEta ** ((Z + 1) * 0.5))) * mask)\n",
    "\n",
    "    # Integral\n",
    "    if USE_3D:\n",
    "        if USE_TORCH_INTEGRAL:\n",
    "            int1 = torch.trapz(subInt)\n",
    "            int2 = torch.trapz(int1)\n",
    "            int3 = torch.trapz(int2)\n",
    "            loss = int3 * D_OMEGA\n",
    "        else:\n",
    "            loss = int_func_simpson_3d(subInt, DX1N * L[0], DX2N * L[1], DX3N * L[2])\n",
    "    else:\n",
    "        loss = int_func_simpson_2d(subInt, DX1N, DX3N) * L[0] * L[1] * L[2]\n",
    "    \n",
    "    if not USE_3D:\n",
    "        v1 = torch.unsqueeze(v1, 1)\n",
    "        v3 = torch.unsqueeze(v3, 1)\n",
    "\n",
    "        v1 = v1.expand(-1,SIZE,-1)\n",
    "        v3 = v3.expand(-1,SIZE,-1)\n",
    "    \n",
    "    v2 = torch.zeros_like(v1)\n",
    "\n",
    "    v_abs = torch.sqrt(v1**2 + v2**2 + v3**2)\n",
    "\n",
    "\n",
    "    return psi, v1, v2, v3, v_abs, loss"
   ]
  },
  {
   "cell_type": "markdown",
   "metadata": {
    "id": "l6bTltBR8ND2"
   },
   "source": [
    "# Training functions\n",
    "## Callbacks"
   ]
  },
  {
   "cell_type": "code",
   "execution_count": null,
   "metadata": {
    "id": "TTEUMNmm8ND3"
   },
   "outputs": [],
   "source": [
    "class EarlyStop():\n",
    "    \"\"\"Callback for early stop train process.\n",
    "    \n",
    "    Args:\n",
    "        monitor (str): value for monitoring.\n",
    "        patience (int): Number of epochs with no improvement after which training will be stopped.\n",
    "        mode (str): One of {\"min\", \"max\"}. In min mode, training will stop when the quantity monitored has stopped decreasing.\n",
    "            In \"max\" mode it will stop when the quantity monitored has stopped increasing.\n",
    "    \n",
    "    Attributes:\n",
    "        history (dict): Dict of lists with train history. Key \"monitor\" contains list of monitoring values. \n",
    "        steps (int): Number of passed epoches. \n",
    "        best_step (int): Number of best epoch. \n",
    "        best_monitor (float): Best of monitoring value.\n",
    "        model (Model): Training model\n",
    "    \"\"\"\n",
    "    \n",
    "    def __init__(self, monitor, patience, mode):\n",
    "        self.monitor = monitor\n",
    "        self.patience = patience\n",
    "        self.mode = mode\n",
    "        self.history = None\n",
    "        self.steps = -1\n",
    "        self.best_step = -1\n",
    "        if self.mode == 'max':\n",
    "            self.best_monitor = 0\n",
    "        elif self.mode == 'min':\n",
    "            self.best_monitor = 1e99999\n",
    "            \n",
    "    def start(self, history, model):\n",
    "        \"\"\"Start and init callback.\n",
    "        \n",
    "        Args:\n",
    "            history (dict): Dict of lists with train history. Key \"monitor\" contains list of monitoring values. \n",
    "            model (Model): Training model.\n",
    "        \"\"\"\n",
    "        \n",
    "        self.history = history\n",
    "        self.model = model\n",
    "        \n",
    "    def step(self, save=True):\n",
    "        \"\"\"Make a step of callback.\n",
    "        \n",
    "        Returns:\n",
    "            tuple: (event, stop):\n",
    "                event (str): Decription of event. If event not did not happen then event = ''.\n",
    "                stop (bool): Flag of stopping train process.\n",
    "        \"\"\"\n",
    "        \n",
    "        self.steps += 1\n",
    "        \n",
    "        if self.mode == 'max':\n",
    "            if self.history[self.monitor][-1] > self.best_monitor:\n",
    "                self.best_monitor = self.history[self.monitor][-1]\n",
    "                self.best_step = self.steps\n",
    "        elif self.mode == 'min':\n",
    "            if self.history[self.monitor][-1] < self.best_monitor:\n",
    "                self.best_monitor = self.history[self.monitor][-1]\n",
    "                self.best_step = self.steps\n",
    "        \n",
    "        if self.steps - self.best_step > self.patience:\n",
    "            return 'Early stop with {}: {:.6f}'.format(self.monitor, self.history[self.monitor][self.best_step]), True\n",
    "        return None, False\n",
    "    \n",
    "    def stop(self):\n",
    "        \"\"\"Delete model from callback.\"\"\"\n",
    "        \n",
    "        self.model = None\n",
    "        torch.cuda.empty_cache()\n",
    "\n",
    "\n",
    "class SaveBest():\n",
    "    \"\"\"Callback for save model if there is an improvement.\n",
    "    \n",
    "    Args:\n",
    "        monitor (str): value for monitoring.\n",
    "        model_path (str): Path for saving model.\n",
    "        mode (str): One of {\"min\", \"max\"}. In min mode, training will stop when the quantity monitored has stopped decreasing.\n",
    "            In \"max\" mode it will stop when the quantity monitored has stopped increasing.\n",
    "    \n",
    "    Attributes:\n",
    "        history (dict): Dict of lists with train history. Key \"monitor\" contains list of monitoring values. \n",
    "        steps (int): Number of passed epoches. \n",
    "        best_step (int): Number of best epoch. \n",
    "        best_monitor (float): Best of monitoring value.\n",
    "        model (Model): Training model\n",
    "    \"\"\"\n",
    "    \n",
    "    def __init__(self, monitor, model_path, mode):\n",
    "        self.monitor = monitor\n",
    "        self.model_path = model_path\n",
    "        self.mode = mode\n",
    "        self.history = None\n",
    "        self.steps = -1\n",
    "        self.best_step = -1\n",
    "        if self.mode == 'max':\n",
    "            self.best_monitor = 0\n",
    "        elif self.mode == 'min':\n",
    "            self.best_monitor = 1e99999\n",
    "    \n",
    "    def start(self, history, model):\n",
    "        \"\"\"Start and init callback. Save first version of model.\n",
    "        \n",
    "        Args:\n",
    "            history (dict): Dict of lists with train history. Key \"monitor\" contains list of monitoring values. \n",
    "            model (Model): Training model\n",
    "        \"\"\"\n",
    "        \n",
    "        self.history = history\n",
    "        self.model = model\n",
    "        torch.save(self.model.state_dict(), self.model_path)\n",
    "    \n",
    "    def step(self, save=True):\n",
    "        \"\"\"Make a step of callback.\n",
    "        \n",
    "        Returns:\n",
    "            tuple: (event, stop):\n",
    "                event (str): Decription of event. If event not did not happen then event = ''.\n",
    "                stop (bool): Flag of stopping train process.\n",
    "        \"\"\"\n",
    "        \n",
    "        self.steps += 1\n",
    "        \n",
    "        if self.mode == 'max':\n",
    "            if self.history[self.monitor][-1] > self.best_monitor:\n",
    "                self.best_monitor = self.history[self.monitor][-1]\n",
    "                self.best_step = self.steps\n",
    "        elif self.mode == 'min':\n",
    "            if self.history[self.monitor][-1] < self.best_monitor:\n",
    "                self.best_monitor = self.history[self.monitor][-1]\n",
    "                self.best_step = self.steps\n",
    "        \n",
    "        if self.steps == self.best_step:\n",
    "            if save:\n",
    "                torch.save(self.model.state_dict(), self.model_path)\n",
    "            return 'Save model with {}: {:.6f}'.format(self.monitor, self.history[self.monitor][self.best_step]), False\n",
    "        return None, False\n",
    "    \n",
    "    def stop(self):\n",
    "        \"\"\"Delete model from callback.\"\"\"\n",
    "        \n",
    "        self.model = None\n",
    "        torch.cuda.empty_cache()"
   ]
  },
  {
   "cell_type": "markdown",
   "metadata": {
    "id": "wmobTYqS8ND8"
   },
   "source": [
    "# Train"
   ]
  },
  {
   "cell_type": "code",
   "execution_count": null,
   "metadata": {
    "id": "JVmmWKu_8ND_"
   },
   "outputs": [],
   "source": [
    "def train(model, optimizer,\n",
    "          criterion, epochs, print_every, callbacks, lr_scheduler, run):\n",
    "    \"\"\"Make model prediction on image.\n",
    "    \n",
    "    Args:\n",
    "        model (Model): Model for training.\n",
    "        inp (Tensor): Input.\n",
    "        optimizer (Optimizer): Optimizer. \n",
    "        criterion (callable): Function for loss calculation.\n",
    "        epochs (int): Number of epoches.\n",
    "        print_every (int): Number of iteration for update statusbar.\n",
    "        callbacks (list): List of callbacks.\n",
    "    \n",
    "    Returns:\n",
    "        history (dict): Dict of lists with train history.\n",
    "    \"\"\"\n",
    "    \n",
    "    if 'history' in run_record[model_path]:\n",
    "        history = run_record[model_path]['history']\n",
    "    else:\n",
    "        history = {'Train loss':[], 'Train int loss':[], 'Train v0 loss':[], 'Train boundary loss':[]}\n",
    "    \n",
    "    if callbacks:\n",
    "        for i in callbacks:\n",
    "            i.start(history, model)\n",
    "    \n",
    "    train_print = ''\n",
    "    state_text_last = ''\n",
    "    \n",
    "    bar = tqdm(range(epochs), desc=\"Epoch\", postfix=train_print)\n",
    "    \n",
    "    for e in range(epochs):\n",
    "        if e < len(history['Train loss']):\n",
    "            if (e + 1) % print_every == 0:\n",
    "                print(f'epoch {e+1}/{epochs}, loss = {history[\"Train loss\"][e]:.6f}')\n",
    "                \n",
    "\n",
    "            if e + 1 != epochs:\n",
    "                train_print = \"Train loss: {:.6f}\".format(history['Train loss'][e]) + ', ' + state_text_last\n",
    "                bar.postfix = train_print\n",
    "                bar.update()\n",
    "                \n",
    "            if callbacks:\n",
    "                for i in callbacks:\n",
    "                    i.step(False)\n",
    "            continue\n",
    "            \n",
    "        model.train()\n",
    "\n",
    "        stop = False\n",
    "        \n",
    "        optimizer.zero_grad()\n",
    "        \n",
    "        out, x = model_forward(model)\n",
    "        \n",
    "        loss, boundary_loss, v0_loss = criterion(out, x)\n",
    "        loss_all = loss + v0_loss + boundary_loss\n",
    "            \n",
    "        with torch.no_grad():\n",
    "            if (e + 1) % print_every == 0:\n",
    "                print(f'epoch {e+1}/{epochs}, loss = {loss_all.item():.6f}')\n",
    "\n",
    "            history['Train loss'].append(loss_all.item())\n",
    "            history['Train int loss'].append(loss.item())\n",
    "            history['Train v0 loss'].append(v0_loss.item())\n",
    "            history['Train boundary loss'].append(boundary_loss.item())\n",
    "        \n",
    "        run_record[model_path]['history'] = history\n",
    "        \n",
    "        with open(f'{WORK_DIR}/history/{MODEL_NAME}_history.json', 'w') as fp:\n",
    "            json.dump(run_record, fp)\n",
    "        \n",
    "        if callbacks:\n",
    "            for i in callbacks:\n",
    "                state_text, state = i.step()\n",
    "                if state_text:\n",
    "                    state_text_last = state_text\n",
    "                if state:\n",
    "                    stop = True\n",
    "        if stop:\n",
    "            train_print = \"Train loss: {:.6f}\".format(history['Train int loss'][-1]) + ', ' + state_text_last\n",
    "            bar.postfix = train_print\n",
    "            if callbacks:\n",
    "                for i in callbacks:\n",
    "                    i.stop()\n",
    "            model = None\n",
    "            inputs = None\n",
    "            targets = None\n",
    "            outputs = None\n",
    "            loss = None\n",
    "            sm = None\n",
    "            \n",
    "            torch.cuda.empty_cache()\n",
    "            \n",
    "            break\n",
    "            \n",
    "        if e + 1 != epochs:\n",
    "            train_print = \"Train loss: {:.6f}\".format(history['Train loss'][e]) + ', ' + state_text_last\n",
    "            bar.postfix = train_print\n",
    "            bar.update()\n",
    "            \n",
    "        loss_all.backward()\n",
    "                \n",
    "        optimizer.step(lambda: loss)\n",
    "        \n",
    "        if lr_scheduler:\n",
    "            if \"Plateau\" in str(lr_scheduler):\n",
    "                lr_scheduler.step(loss_all)\n",
    "            else:\n",
    "                lr_scheduler.step()\n",
    "                        \n",
    "        inputs = None\n",
    "        targets = None\n",
    "        outputs = None\n",
    "        loss = None\n",
    "        sm = None\n",
    "        \n",
    "        torch.cuda.empty_cache()\n",
    "      \n",
    "    bar.update()\n",
    "    bar.close()\n",
    "    \n",
    "    if callbacks:\n",
    "        for i in callbacks:\n",
    "            i.stop()\n",
    "    \n",
    "    model = None\n",
    "    \n",
    "    torch.cuda.empty_cache()\n",
    "    \n",
    "    return history\n",
    "\n",
    "\n",
    "def plot_train_history(history):\n",
    "    \"\"\"Plot train history.\n",
    "    \n",
    "    Args:\n",
    "        history (dict): Dict of lists with train history..\n",
    "    \"\"\"\n",
    "    \n",
    "    fig, ax = plt.subplots(figsize = (FIGSIZE * 2, FIGSIZE))\n",
    "    \n",
    "    ax.plot(history['Train loss'], c = 'r')\n",
    "    ax.set_title('Loss')\n",
    "    ax.set_xlabel('Epochs')\n",
    "    ax.set_ylabel('Loss')\n",
    "    ax.legend(['Train'])\n",
    "    ax.set_yscale('log')\n",
    "    plt.subplots_adjust(left=None, bottom=None, right=None, top=None, wspace=None, hspace=0.3)\n",
    "    plt.show()\n",
    "    \n",
    "    fig, ax = plt.subplots(figsize = (FIGSIZE * 2, FIGSIZE))\n",
    "    \n",
    "    ax.plot(history['Train int loss'], c = 'r')\n",
    "    ax.set_title('Int loss')\n",
    "    ax.set_xlabel('Epochs')\n",
    "    ax.set_ylabel('Loss')\n",
    "    ax.legend(['Train'])\n",
    "    ax.set_yscale('log')\n",
    "    plt.subplots_adjust(left=None, bottom=None, right=None, top=None, wspace=None, hspace=0.3)\n",
    "    plt.show()\n",
    "    \n",
    "    fig, ax = plt.subplots(figsize = (FIGSIZE * 2, FIGSIZE))\n",
    "    \n",
    "    ax.plot(history['Train v0 loss'], c = 'r')\n",
    "    ax.set_title('v0 loss')\n",
    "    ax.set_xlabel('Epochs')\n",
    "    ax.set_ylabel('Loss')\n",
    "    ax.legend(['Train'])\n",
    "    ax.set_yscale('log')\n",
    "    plt.subplots_adjust(left=None, bottom=None, right=None, top=None, wspace=None, hspace=0.3)\n",
    "    plt.show()\n",
    "    \n",
    "    fig, ax = plt.subplots(figsize = (FIGSIZE * 2, FIGSIZE))\n",
    "    \n",
    "    ax.plot(history['Train boundary loss'], c = 'r')\n",
    "    ax.set_title('Boundary loss')\n",
    "    ax.set_xlabel('Epochs')\n",
    "    ax.set_ylabel('Loss')\n",
    "    ax.legend(['Train'])\n",
    "    ax.set_yscale('log')\n",
    "    plt.subplots_adjust(left=None, bottom=None, right=None, top=None, wspace=None, hspace=0.3)\n",
    "    plt.show()\n",
    "\n",
    "\n",
    "def dict2str(dict1):\n",
    "    out = str(dict1).replace(\"}\", \"\")\n",
    "    out = str(out).replace(\"{\", \"\")\n",
    "    out = str(out).replace(\"\\\"\", \"\")\n",
    "    out = str(out).replace(\"\\'\", \"\")\n",
    "    out = str(out).replace(\":\", \"\")\n",
    "    return out"
   ]
  },
  {
   "cell_type": "markdown",
   "metadata": {
    "id": "FPeLHoR31p1D"
   },
   "source": [
    "## Create model\n",
    "Unet architecture [2] is used"
   ]
  },
  {
   "cell_type": "code",
   "execution_count": null,
   "metadata": {
    "id": "PID82zl-cxN4"
   },
   "outputs": [],
   "source": [
    "class UNet(nn.Module):\n",
    "\n",
    "    def __init__(self, in_channels=3, out_channels=1, init_features=4, use_bn=True, use_sigmoid=False):\n",
    "        super(UNet, self).__init__()\n",
    "\n",
    "        features = init_features\n",
    "        self.encoder1 = UNet._block(in_channels, features, name=\"enc1\", use_bn=use_bn)\n",
    "        self.pool1 = nn.MaxPool2d(kernel_size=2, stride=2)\n",
    "        self.encoder2 = UNet._block(features, features * 2, name=\"enc2\", use_bn=use_bn)\n",
    "        self.pool2 = nn.MaxPool2d(kernel_size=2, stride=2)\n",
    "        self.encoder3 = UNet._block(features * 2, features * 4, name=\"enc3\", use_bn=use_bn)\n",
    "        self.pool3 = nn.MaxPool2d(kernel_size=2, stride=2)\n",
    "        self.encoder4 = UNet._block(features * 4, features * 8, name=\"enc4\", use_bn=use_bn)\n",
    "        self.pool4 = nn.MaxPool2d(kernel_size=2, stride=2)\n",
    "\n",
    "        self.bottleneck = UNet._block(features * 8, features * 16, name=\"bottleneck\", use_bn=use_bn)\n",
    "\n",
    "        self.upconv4 = nn.ConvTranspose2d(\n",
    "            features * 16, features * 8, kernel_size=2, stride=2\n",
    "        )\n",
    "        self.decoder4 = UNet._block((features * 8) * 2, features * 8, name=\"dec4\", use_bn=use_bn)\n",
    "        self.upconv3 = nn.ConvTranspose2d(\n",
    "            features * 8, features * 4, kernel_size=2, stride=2\n",
    "        )\n",
    "        self.decoder3 = UNet._block((features * 4) * 2, features * 4, name=\"dec3\", use_bn=use_bn)\n",
    "        self.upconv2 = nn.ConvTranspose2d(\n",
    "            features * 4, features * 2, kernel_size=2, stride=2\n",
    "        )\n",
    "        self.decoder2 = UNet._block((features * 2) * 2, features * 2, name=\"dec2\", use_bn=use_bn)\n",
    "        self.upconv1 = nn.ConvTranspose2d(\n",
    "            features * 2, features, kernel_size=2, stride=2\n",
    "        )\n",
    "        self.decoder1 = UNet._block(features * 2, features, name=\"dec1\", use_bn=use_bn)\n",
    "        self.decoder0 = UNet._block(features, features, name=\"dec1\", use_bn=use_bn)\n",
    "        self.conv = nn.Conv2d(\n",
    "            in_channels=features, out_channels=out_channels, kernel_size=1\n",
    "        )\n",
    "        \n",
    "        self.use_sigmoid = use_sigmoid\n",
    "\n",
    "    def forward(self, x):\n",
    "        enc1 = self.encoder1(x)\n",
    "        enc2 = self.encoder2(self.pool1(enc1))\n",
    "        enc3 = self.encoder3(self.pool2(enc2))\n",
    "        enc4 = self.encoder4(self.pool3(enc3))\n",
    "\n",
    "        bottleneck = self.bottleneck(self.pool4(enc4))\n",
    "\n",
    "        dec4 = self.upconv4(bottleneck)\n",
    "        dec4 = torch.cat((dec4, enc4), dim=1)\n",
    "        dec4 = self.decoder4(dec4)\n",
    "        dec3 = self.upconv3(dec4)\n",
    "        dec3 = torch.cat((dec3, enc3), dim=1)\n",
    "        dec3 = self.decoder3(dec3)\n",
    "        dec2 = self.upconv2(dec3)\n",
    "        dec2 = torch.cat((dec2, enc2), dim=1)\n",
    "        dec2 = self.decoder2(dec2)\n",
    "        dec1 = self.upconv1(dec2)\n",
    "        dec1 = torch.cat((dec1, enc1), dim=1)\n",
    "        dec1 = self.decoder1(dec1)\n",
    "        dec0 = self.decoder0(dec1)\n",
    "        if self.use_sigmoid:\n",
    "            psi = torch.sigmoid(self.conv(dec0)) * PSI_NORM\n",
    "        else:\n",
    "            psi = self.conv(dec0) * PSI_NORM\n",
    "        return psi\n",
    "\n",
    "    @staticmethod\n",
    "    def _block(in_channels, features, name, use_bn):\n",
    "        return nn.Sequential(\n",
    "            OrderedDict(\n",
    "                [\n",
    "                    (\n",
    "                        name + \"conv1\",\n",
    "                        nn.Conv2d(\n",
    "                            in_channels=in_channels,\n",
    "                            out_channels=features,\n",
    "                            kernel_size=3,\n",
    "                            padding=1,\n",
    "                            bias=False,\n",
    "                        ),\n",
    "                    ),\n",
    "                    *[(name + \"norm1\", nn.BatchNorm2d(num_features=features)),\n",
    "                      (name + \"relu1\", nn.ReLU(inplace=True))][0 if use_bn else 1:],\n",
    "                    (\n",
    "                        name + \"conv2\",\n",
    "                        nn.Conv2d(\n",
    "                            in_channels=features,\n",
    "                            out_channels=features,\n",
    "                            kernel_size=3,\n",
    "                            padding=1,\n",
    "                            bias=False,\n",
    "                        ),\n",
    "                    ),\n",
    "                    *[(name + \"norm2\", nn.BatchNorm2d(num_features=features)),\n",
    "                      (name + \"relu2\", nn.ReLU(inplace=True))][0 if use_bn else 1:],\n",
    "                ]\n",
    "            )\n",
    "        )\n",
    "\n",
    "\n",
    "def create_layers(input_size, hidden_layer_size, hidden_layers, output_size):\n",
    "    layers = []\n",
    "    for i in range(hidden_layers):\n",
    "        if not i:\n",
    "            layers += [nn.Linear(input_size, hidden_layer_size, bias=True),\n",
    "                       nn.Tanh()]\n",
    "            torch.nn.init.xavier_normal_(layers[-2].weight)\n",
    "        else:\n",
    "            layers += [nn.Linear(hidden_layer_size, hidden_layer_size, bias=True),\n",
    "                       nn.Tanh()]\n",
    "            torch.nn.init.xavier_normal_(layers[-2].weight)\n",
    "            \n",
    "    layers.append(nn.Linear(hidden_layer_size, 1, bias=True))\n",
    "    torch.nn.init.xavier_normal_(layers[-1].weight)\n",
    "    \n",
    "    return layers\n",
    "\n",
    "\n",
    "class MLP(nn.Module):\n",
    "    def __init__(self, input_size, hidden_layer_size, hidden_layers, output_size, use_sigmoid):\n",
    "        super(MLP, self).__init__()\n",
    "        \n",
    "        layers_2 = create_layers(input_size, hidden_layer_size, hidden_layers, output_size)\n",
    "        self.mlp_2 = nn.Sequential(*layers_2)\n",
    "        \n",
    "        if USE_3D:\n",
    "            layers_1 = create_layers(input_size, hidden_layer_size, hidden_layers, output_size)\n",
    "            self.mlp_1 = nn.Sequential(*layers_1)\n",
    "            layers_3 = create_layers(input_size, hidden_layer_size, hidden_layers, output_size)\n",
    "            self.mlp_3 = nn.Sequential(*layers_3)\n",
    "        \n",
    "        self.use_sigmoid = use_sigmoid\n",
    "\n",
    "    def forward(self, x):\n",
    "        if self.use_sigmoid:\n",
    "            y_2 = (torch.sigmoid(self.mlp_2(x[1] - 0.5)) * PSIPP[1]).reshape(1, 1, SIZE, SIZE)\n",
    "            if USE_3D:\n",
    "                y_1 = (torch.sigmoid(self.mlp_1(x[0] - 0.5)) * PSIPP[0]).reshape(1, 1, SIZE, SIZE)\n",
    "                y_3 = (torch.sigmoid(self.mlp_3(x[2] - 0.5)) * PSIPP[2]).reshape(1, 1, SIZE, SIZE)\n",
    "            else:\n",
    "                y_1 = torch.zeros_like(y_2).to(DEVICE)\n",
    "                y_3 = torch.zeros_like(y_2).to(DEVICE)\n",
    "        else:\n",
    "            y_2 = (self.mlp_2(x[1] - 0.5) * PSIPP[1]).reshape(1, 1, SIZE, SIZE)\n",
    "            if USE_3D:\n",
    "                y_1 = (self.mlp_1(x[0] - 0.5) * PSIPP[0]).reshape(1, 1, SIZE, SIZE)\n",
    "                y_3 = (self.mlp_3(x[2] - 0.5) * PSIPP[2]).reshape(1, 1, SIZE, SIZE)\n",
    "            else:\n",
    "                y_1 = torch.zeros_like(y_2).to(DEVICE)\n",
    "                y_3 = torch.zeros_like(y_2).to(DEVICE)\n",
    "        return torch.cat([y_1, y_2, y_3], dim=0) if USE_3D else torch.cat([y_1, y_2, y_3], dim=0)"
   ]
  },
  {
   "cell_type": "markdown",
   "metadata": {
    "id": "-SolvHAd8NEH"
   },
   "source": [
    "## Loss"
   ]
  },
  {
   "cell_type": "code",
   "execution_count": null,
   "metadata": {
    "id": "1GOKle0L8NEJ"
   },
   "outputs": [],
   "source": [
    "def power_loss(psi, x=None):\n",
    "    #Fix psi function on the boundaries\n",
    "    boundary_loss = None\n",
    "    for i in range(3):\n",
    "        if W_B > 0:\n",
    "            if PSIPP[i] != 0:\n",
    "                if USE_SINGLE_BOUNDARY:\n",
    "                    b_1 = psi[i,:, PSI_CONTOUR_MM[i] == 1]\n",
    "                    b_2 = psi[i,:, PSI_CONTOUR_PP[i] == 1]\n",
    "                else:\n",
    "                    b_1 = psi[i,:,NL,:]\n",
    "                    b_2 = psi[i,:,-NL,:]\n",
    "                if boundary_loss is not None:\n",
    "                    boundary_loss += torch.nn.functional.mse_loss(b_1, torch.ones_like(b_1) * PSIMM[i])\n",
    "                    boundary_loss += torch.nn.functional.mse_loss(b_2, torch.ones_like(b_2) * PSIPP[i])\n",
    "                else:\n",
    "                    boundary_loss = torch.nn.functional.mse_loss(b_1, torch.ones_like(b_1) * PSIMM[i])\n",
    "                    boundary_loss += torch.nn.functional.mse_loss(b_2, torch.ones_like(b_2) * PSIPP[i])\n",
    "        else:\n",
    "            boundary_loss = torch.tensor(0)\n",
    "            if PSIPP[i] != 0:\n",
    "                if USE_SINGLE_BOUNDARY:\n",
    "                    psi[i,:, PSI_CONTOUR_MM[i] == 1] = PSIMM[i]\n",
    "                    psi[i,:, PSI_CONTOUR_PP[i] == 1] = PSIPP[i]\n",
    "                else:\n",
    "                    psi[i,:,:NL,:]  = PSIMM[i]\n",
    "                    psi[i,:,-NL:,:] = PSIPP[i]\n",
    "\n",
    "    v1, v2, v3 = velocityDistr(psi[0,0,:,:], psi[1,0,:,:], psi[2,0,:,:],\n",
    "                               DX1N, DX2N, DX3N, L[0], L[1], L[2], x if DIFF_AUTO else None)\n",
    "    \n",
    "    xi11, xi12, xi13, xi22, xi23, xi33, EtaEta = TksiDistr(v1, v2, v3, DX1N, DX2N, DX3N,\n",
    "                                                           L[0], L[1], L[2], x if DIFF_AUTO else None)\n",
    "    \n",
    "    #Subintegral expression with masks for fluid and walls, respectively:\n",
    "    mask = MASK[0,:,:,:] if USE_3D else MASK[0,:,0,:]\n",
    "    if USE_MASK == 2:\n",
    "        subInt = ((0.5 * Q0 * EtaEta + ((Q1 / (Z + 1)) * EtaEta ** ((Z + 1) * 0.5))) * mask + \n",
    "                  (0.5 * Q0W * EtaEta + ((Q1W / (ZW + 1)) * EtaEta ** ((ZW + 1) * 0.5))) * (1 - mask))\n",
    "    elif USE_MASK == 1:\n",
    "        subInt = ((0.5 * Q0 * EtaEta + ((Q1 / (Z + 1)) * EtaEta ** ((Z + 1) * 0.5))) * mask)\n",
    "    elif USE_MASK == 0:\n",
    "        subInt = ((0.5 * Q0 * EtaEta + ((Q1 / (Z + 1)) * EtaEta ** ((Z + 1) * 0.5))))\n",
    " \n",
    "    # Integral\n",
    "    if USE_3D:\n",
    "        if USE_TORCH_INTEGRAL:\n",
    "            int1 = torch.trapz(subInt)\n",
    "            int2 = torch.trapz(int1)\n",
    "            int3 = torch.trapz(int2)\n",
    "            loss = int3 * D_OMEGA\n",
    "        else:\n",
    "            loss = int_func_simpson_3d(subInt, DX1N * L[0], DX2N * L[1], DX3N * L[2])\n",
    "    else:\n",
    "        loss = int_func_simpson_2d(subInt, DX1N, DX3N) * L[0] * L[1] * L[2]\n",
    "    \n",
    "    mask_contour = MASK_CONTOUR[0] == 1 if USE_3D else MASK_CONTOUR[0, :, 0] == 1\n",
    "    \n",
    "    if MODEL_NAME == 'Unet':\n",
    "        v0_loss = (torch.nn.functional.mse_loss(v1[mask == 0], torch.zeros_like(v1[mask == 0])) +\n",
    "                   torch.nn.functional.mse_loss(v3[mask == 0], torch.zeros_like(v3[mask == 0])))\n",
    "    else:\n",
    "        v0_loss = (torch.nn.functional.mse_loss(v1[mask_contour], torch.zeros_like(v1[mask_contour])) +\n",
    "                   torch.nn.functional.mse_loss(v3[mask_contour], torch.zeros_like(v3[mask_contour])))\n",
    "        \n",
    "#     v0_loss = (torch.nn.functional.mse_loss(v1[mask_contour], torch.zeros_like(v1[mask_contour])) +\n",
    "#                    torch.nn.functional.mse_loss(v3[mask_contour], torch.zeros_like(v3[mask_contour])))\n",
    "    \n",
    "    if USE_3D:\n",
    "        v0_loss += torch.nn.functional.mse_loss(v2[mask_contour], torch.zeros_like(v2[mask_contour]))        \n",
    "\n",
    "    return loss * W_P, boundary_loss * W_B, v0_loss * W_V0\n"
   ]
  },
  {
   "cell_type": "markdown",
   "metadata": {
    "id": "AFPBAsM88NEL"
   },
   "source": [
    "## Forward"
   ]
  },
  {
   "cell_type": "code",
   "execution_count": null,
   "metadata": {
    "id": "cU9Ah5Ws8NEM"
   },
   "outputs": [],
   "source": [
    "def model_forward(model):\n",
    "    \n",
    "    if MODEL_NAME == 'MLP':\n",
    "\n",
    "        x1_1 = X1_1.flatten().reshape(-1, 1).to(DEVICE).requires_grad_(True)\n",
    "        x1_2 = X1_2.flatten().reshape(-1, 1).to(DEVICE).requires_grad_(True)\n",
    "        x_1 = torch.cat((x1_1, x1_2), axis=1)\n",
    "\n",
    "        x2_1 = X2_1.flatten().reshape(-1, 1).to(DEVICE).requires_grad_(True)\n",
    "        x2_2 = X2_2.flatten().reshape(-1, 1).to(DEVICE).requires_grad_(True)\n",
    "        x_2 = torch.cat((x2_1, x2_2), axis=1)\n",
    "\n",
    "        x3_1 = X3_1.flatten().reshape(-1, 1).to(DEVICE).requires_grad_(True)\n",
    "        x3_2 = X3_2.flatten().reshape(-1, 1).to(DEVICE).requires_grad_(True)\n",
    "        x_3 = torch.cat((x3_1, x3_2), axis=1)\n",
    "\n",
    "        x = (x_1, x_2, x_3)\n",
    "\n",
    "        psi = model.forward(x)\n",
    "            \n",
    "        x = (x1_1, x1_2, x2_1, x2_2, x3_1, x3_2)\n",
    "            \n",
    "    else:\n",
    "\n",
    "        psi = model.forward(INP)\n",
    "        \n",
    "        x = None\n",
    "        \n",
    "    return psi, x"
   ]
  },
  {
   "cell_type": "markdown",
   "metadata": {
    "id": "mPNPlWWU8NEN"
   },
   "source": [
    "# **3D flow in a pipe**\n",
    "It is supposed that the Newtonian fluid flows through a cylindrical pipe with radius $R$. The flow is steady, the Reynolds number is smaller than the critical one $Re < Re^* {\\approx} 1100...1400$ and the pipe length is greater than the critical one $L_3 > 0.16RRe$. \n",
    "\n",
    "\n",
    "\n",
    "# Analytical solution in case if the fluid is Newtonian\n",
    "\n",
    "The task of fluid flow through a pipe is known as Poiseuille flow and it has a simple analytical solution given in **cylindrical coordinates** $[\\rho, \\theta, x_3]$:\n",
    "\n",
    "\\begin{equation}\n",
    "    {v_3} = - \\frac{1}{4\\mu}\\frac{\\partial p}{\\partial x_3}(R^2 - \\rho^2),\n",
    "\\end{equation}\n",
    "where ${\\partial p}/{\\partial x_3}$ is the pressure drop along the axis of the cylinder.\n",
    "\n",
    "The flow rate trough the pipe cross section (surface $S_3$) is equal to:\n",
    "\n",
    "\\begin{equation}\n",
    "    {Q_3} = \\iint_{S_3} v_3 \\rho\\,d\\rho\\,d\\theta =  - \\frac{\\pi}{8}\\frac{\\partial p}{\\partial x_3}\\frac{R^4}{\\mu}.\n",
    "\\end{equation}\n",
    "\n",
    "## Given data"
   ]
  },
  {
   "cell_type": "code",
   "execution_count": null,
   "metadata": {
    "id": "HMD_SssR8NEP",
    "scrolled": true
   },
   "outputs": [],
   "source": [
    "if USE_3D:\n",
    "    print(f'fluid viscosity: mu = {MU},')\n",
    "    print(f'flow rate along x_3 axis: Q3 = {QP[2]}.')"
   ]
  },
  {
   "cell_type": "markdown",
   "metadata": {
    "id": "a6xt4eXU8NEQ"
   },
   "source": [
    "## Simulation results"
   ]
  },
  {
   "cell_type": "code",
   "execution_count": null,
   "metadata": {
    "id": "9Nk5sqvM8NER"
   },
   "outputs": [],
   "source": [
    "if USE_3D:\n",
    "    R = L[0] * 3 / 8\n",
    "    dpdx3a = - QP[2] * 8 * MU / (np.pi * (R ** 4))\n",
    "    v3amax = -1 / (4 * MU) * dpdx3a*(R ** 2)\n",
    "    Int = - dpdx3a * L[2] * QP[2]\n",
    "\n",
    "    Re = RHO * v3amax * 2 * R / MU\n",
    "    Lcr = 0.16 * R * Re\n",
    "\n",
    "    print(f'pressure drop along x_3 axis: dpdx3 = {dpdx3a},')\n",
    "    print(f'maximum velocity: v3 = {v3amax},')\n",
    "    print(f'internal power: Int = {Int},')\n",
    "    print(f'Reynolds number Re = {Re} is smaller than critical Re < {Re_cr}: {Re<Re_cr}')\n",
    "    print(f'Pipe length L_3 = {L[2]} is longer than critical L_cr = {Lcr}: {L[2]>Lcr}')\n",
    "    print(f'Pipe radius R = {R}.')"
   ]
  },
  {
   "cell_type": "markdown",
   "metadata": {
    "id": "gNB_2Obh8NES"
   },
   "source": [
    "# Analytical solution 2. From $\\boldsymbol{\\Psi}$ to velocity distribution $\\boldsymbol{V}$"
   ]
  },
  {
   "cell_type": "markdown",
   "metadata": {
    "id": "6yfQ65Lt8NET"
   },
   "source": [
    "## $\\boldsymbol\\Psi$ initialization\n"
   ]
  },
  {
   "cell_type": "code",
   "execution_count": null,
   "metadata": {
    "id": "Xvr3nRMo8NEU"
   },
   "outputs": [],
   "source": [
    "if USE_3D:\n",
    "    #psi1(x_2,x_3)\n",
    "    psi1 = - 1 / (12 * MU) * dpdx3a * (X2N * L[1] - 0.5 * L[0]) ** 3\n",
    "    psi1 = torch.unsqueeze(psi1, 1)\n",
    "    psi1 = psi1.expand(-1, SIZE)\n",
    "\n",
    "    #psi2(x_1,x_3)\n",
    "\n",
    "    psi2 = - 1 / (4 * MU) * dpdx3a * (((X1N * L[0] - 0.5 * L[0]) * R ** 2) - (1 / 3) * (X1N * L[0] - 0.5 * L[0]) ** 3)\n",
    "    psi2 = torch.unsqueeze(psi2, 1)\n",
    "    psi2 = psi2.expand(-1, SIZE)\n",
    "\n",
    "\n",
    "    #psi3(x_1,x_2)\n",
    "    psi3 = torch.linspace(0, 0, SIZE, dtype=torch.float32)\n",
    "    psi3 = torch.unsqueeze(psi3, 1)\n",
    "    psi3 = psi3.expand(-1, SIZE)\n",
    "\n",
    "    psi = [psi1, psi2, psi3]\n",
    "\n",
    "    psi = torch.stack(psi)\n",
    "    psi = torch.unsqueeze(psi,1)"
   ]
  },
  {
   "cell_type": "markdown",
   "metadata": {
    "id": "K3tEGvQD8NEV"
   },
   "source": [
    "## Flow rate:\n",
    "\n",
    "\\begin{equation}\n",
    "    Q_3(x_3^+) = - (\\psi_1^{++} - \\psi_1^{-+})l_1 + (\\psi_2^{++} - \\psi_2^{-+})l_2.\n",
    "\\end{equation}"
   ]
  },
  {
   "cell_type": "markdown",
   "metadata": {
    "id": "MyeT4qOg8NEX"
   },
   "source": [
    "## Calculate loss"
   ]
  },
  {
   "cell_type": "code",
   "execution_count": null,
   "metadata": {
    "id": "1-AV-Pow8NEY"
   },
   "outputs": [],
   "source": [
    "if USE_3D and CALC_ERROR:\n",
    "    psi, v1, v2, v3, v_abs, loss = inference(psi.to(DEVICE), None, True)\n",
    "    \n",
    "    v3_analytical = v3.clone()\n",
    "    \n",
    "    print(f'absolute velocity: {v_abs.min()} < abs(V) < {v_abs.max()},')\n",
    "    print(f'mean velocity: {v_abs.mean()},')\n",
    "    print(f'internal power: Int = {loss},')"
   ]
  },
  {
   "cell_type": "markdown",
   "metadata": {
    "id": "0SRwBmCs8NEZ"
   },
   "source": [
    "## Visualization"
   ]
  },
  {
   "cell_type": "code",
   "execution_count": null,
   "metadata": {
    "id": "dmLUDVpO8NEa",
    "scrolled": false
   },
   "outputs": [],
   "source": [
    "if USE_3D and CALC_ERROR:\n",
    "    flowVisualization(psi.permute(1,0,2,3).detach().cpu(),\n",
    "                      v1.detach().cpu(), v2.detach().cpu(), v3.detach().cpu(), v_abs.detach().cpu(), step=4, use_mask=True)"
   ]
  },
  {
   "cell_type": "code",
   "execution_count": null,
   "metadata": {
    "id": "Xl8NB8tK8NEb",
    "scrolled": false
   },
   "outputs": [],
   "source": [
    "if USE_3D and CALC_ERROR:\n",
    "    flowVisualization(psi.permute(1,0,2,3).detach().cpu(),\n",
    "                      v1.detach().cpu(), v2.detach().cpu(), v3.detach().cpu(), v_abs.detach().cpu(), step=4, use_mask=False)"
   ]
  },
  {
   "cell_type": "markdown",
   "metadata": {
    "id": "kKEgqkj48NEc"
   },
   "source": [
    "$V_3$ contours and slices"
   ]
  },
  {
   "cell_type": "code",
   "execution_count": null,
   "metadata": {
    "id": "FF2gXP7X8NEd"
   },
   "outputs": [],
   "source": [
    "if USE_3D and CALC_ERROR:\n",
    "    v_contours_and_slices(v3.detach().cpu() * MASK.cpu()[0], 3)"
   ]
  },
  {
   "cell_type": "markdown",
   "metadata": {
    "id": "McdhxUvT8NEe"
   },
   "source": [
    "$V_3$ surface"
   ]
  },
  {
   "cell_type": "code",
   "execution_count": null,
   "metadata": {
    "id": "JpUhbWA58NEf"
   },
   "outputs": [],
   "source": [
    "if USE_3D and CALC_ERROR:\n",
    "    v_surf(v3.detach().cpu() * MASK.cpu()[0], X3_1, X3_2, 3)"
   ]
  },
  {
   "cell_type": "markdown",
   "metadata": {
    "id": "kOmbYiIn8NEg"
   },
   "source": [
    "$V$ 3D"
   ]
  },
  {
   "cell_type": "code",
   "execution_count": null,
   "metadata": {
    "id": "04_MI_Gb8NEk"
   },
   "outputs": [],
   "source": [
    "if USE_3D and CALC_ERROR:\n",
    "    x = np.meshgrid(np.arange(0, SIZE, STEP3D),\n",
    "                    np.arange(0, SIZE, STEP3D),\n",
    "                    np.arange(0, SIZE, STEP3D), indexing='ij')\n",
    "\n",
    "    v_all = torch.stack((v1.cpu() * MASK[0].cpu() / L[0], v2.cpu() * MASK[0].cpu() / L[1], v3.cpu() * MASK[0].cpu() / L[2]), 3).detach()\n",
    "    v_abs = torch.sqrt(v_all[:, :, :, 0] ** 2 + v_all[:, :, :, 1] ** 2 + v_all[:, :, :, 2] ** 2)\n",
    "\n",
    "    vector_plot_3d(x, v_all / v_abs.max(), v_abs, figSize=FIGSIZE*4, step=STEP3D)"
   ]
  },
  {
   "cell_type": "markdown",
   "metadata": {
    "id": "ZYvIqNWb8NEl"
   },
   "source": [
    "# **2D flows**\n",
    "\n",
    "It is supposed that the Newtonian fluid flows between 2 paralle plates with the gap of $2R$. The flow is steady, the Reynolds number is smaller than the critical one (for the pipe $Re < Re^* {\\approx} 1100...1400$ and the pipe length is greater than the critical one $L_3 > 0.16RRe$). \n",
    "\n",
    "Generalization: it is supposed that the non-Newtonian fluid flows in the 2D flow domain. The flow is steady. \n",
    "\n"
   ]
  },
  {
   "cell_type": "markdown",
   "metadata": {
    "id": "T_8-acaG8NEm"
   },
   "source": [
    "# Analytical solution 2: flow between 2 parallel plates\n",
    "\n",
    "Velocity distribution has one non-zero component $v_3$ that depends on one coordinate $v_3 = v_3(x_1)$:\n",
    "\n",
    "\\begin{equation}\n",
    "    {v_3} = С_0\\frac{x_1^2}{2\\mu} + C_1x_1,\n",
    "\\end{equation}\n",
    "where $С_0 = {-12{\\mu}Q_3}/{(2R)^3}$, $С_1 = {6Q_3}/{(2R)^2}$, $С_0L_3 = {\\partial p}/{\\partial x_3}$, ${\\partial p}/{\\partial x_3}$ is the pressure drop along the axis of the cylinder.\n",
    "\n",
    "The flow rate trough the edges (surfaces $S_3^-$, $S_3^+$) is given and equal to:\n",
    "\n",
    "\\begin{equation}\n",
    "    {Q_3} = \\iint_{S_3} v_3 ,dx_1dx_2.\n",
    "\\end{equation}\n",
    "\n",
    "The power of external forces $Ext$ (equal to the power of internal forces $Int$) : \n",
    "\n",
    "\\begin{equation}\n",
    "    {Ext} = (p_1 - p_0)\\iint_{S_3} v_3 \\,dx_1\\,dx_2 =  \\frac{\\partial p}{\\partial x_3}L_3Q_3.\n",
    "\\end{equation}\n",
    "\n",
    "\n",
    "\n",
    "## Given data"
   ]
  },
  {
   "cell_type": "code",
   "execution_count": null,
   "metadata": {
    "id": "JogIuRjA8NEo"
   },
   "outputs": [],
   "source": [
    "if not USE_3D:\n",
    "    print(f'fluid viscosity: mu = {MU},')\n",
    "    print(f'flow rate along x_3 axis: Q3 = {QP[2]}.')"
   ]
  },
  {
   "cell_type": "markdown",
   "metadata": {
    "id": "L3UwlTb98NEp"
   },
   "source": [
    "## Simulation results"
   ]
  },
  {
   "cell_type": "code",
   "execution_count": null,
   "metadata": {
    "id": "KMGz_VPV8NEq"
   },
   "outputs": [],
   "source": [
    "if not USE_3D and FLUID_TYPE == 'new' and CALC_ERROR:\n",
    "    h = L[0] / 4\n",
    "    C0 = -12 * MU * QP[2] / (h ** 3 * L[1])\n",
    "    C1 = 6 * QP[2] / (h ** 2 * L[1])\n",
    "    psiex = C0 * ((X1N * 4 - 1.5) ** 3) * h ** 3 / (6 * MU) + C1 * ((X1N * 4 - 1.5) ** 2 /2) * h ** 2\n",
    "    v3a = C0 * ((X1N * 4 - 1.5) ** 2) * h ** 2 / (2 * MU) + C1 * ((X1N * 4 - 1.5)) * h\n",
    "    v3amax = v3a.max() \n",
    "\n",
    "    dpdx3a = C0 * L[2]\n",
    "    Int = - dpdx3a * QP[2]\n",
    "\n",
    "    Re = RHO * v3amax * h / MU\n",
    "\n",
    "    print(f'pressure drop along x_3 axis: dpdx3 = {dpdx3a},')\n",
    "    print(f'maximum velocity: v3 = {v3amax},')\n",
    "    print(f'internal power: Int = {Int},')\n",
    "    print(f'Reynolds number Re = {Re} is smaller than critical Re < {Re_cr}: {Re<Re_cr}')"
   ]
  },
  {
   "cell_type": "markdown",
   "metadata": {
    "id": "0oTEQviU8NEs"
   },
   "source": [
    "# Analytical solution. From $\\boldsymbol{\\Psi}$ to velocity distribution $\\boldsymbol{V}$"
   ]
  },
  {
   "cell_type": "markdown",
   "metadata": {
    "id": "bjHCFTOx8NEt"
   },
   "source": [
    "## $\\boldsymbol\\Psi$ initialization\n"
   ]
  },
  {
   "cell_type": "code",
   "execution_count": null,
   "metadata": {
    "id": "W3fSjYca8NEu"
   },
   "outputs": [],
   "source": [
    "if not USE_3D and FLUID_TYPE == 'new' and CALC_ERROR:\n",
    "    #psi2(x_1,x_3)\n",
    "    psi2 = psiex\n",
    "    psi2 = (psi2 * torch.ones(SIZE, SIZE)).t()\n",
    "\n",
    "    psi = [torch.zeros_like(psi2), psi2, torch.zeros_like(psi2)]\n",
    "\n",
    "    psi = torch.stack(psi)\n",
    "    psi = torch.unsqueeze(psi,1)"
   ]
  },
  {
   "cell_type": "markdown",
   "metadata": {
    "id": "vwa9CqoV8NEv"
   },
   "source": [
    "## Flow rate:\n",
    "\n",
    "\\begin{equation}\n",
    "    Q_3(x_3^+) = - (\\psi_1^{++} - \\psi_1^{-+})l_1 + (\\psi_2^{++} - \\psi_2^{-+})l_2.\n",
    "\\end{equation}"
   ]
  },
  {
   "cell_type": "markdown",
   "metadata": {
    "id": "8xNmso8g8NEw"
   },
   "source": [
    "## Calculate loss"
   ]
  },
  {
   "cell_type": "code",
   "execution_count": null,
   "metadata": {
    "id": "aiPGH9hQ8NEx"
   },
   "outputs": [],
   "source": [
    "if not USE_3D and FLUID_TYPE == 'new' and CALC_ERROR:\n",
    "    psi, v1, v2, v3, v_abs, loss = inference(psi.to(DEVICE), None, True)\n",
    "    \n",
    "    v3_analytical = v3.clone()\n",
    "\n",
    "    print(f'absolute velocity: {v_abs.min()} < abs(V) < {v_abs.max()},')\n",
    "    print(f'mean velocity: {v_abs.mean()},')\n",
    "    print(f'internal power: Int = {loss},')"
   ]
  },
  {
   "cell_type": "markdown",
   "metadata": {
    "id": "2O0NzzSC8NEy"
   },
   "source": [
    "## Visualization"
   ]
  },
  {
   "cell_type": "code",
   "execution_count": null,
   "metadata": {
    "id": "4sm3gyTm8NEz",
    "scrolled": false
   },
   "outputs": [],
   "source": [
    "if not USE_3D and FLUID_TYPE == 'new' and CALC_ERROR:\n",
    "    flowVisualization(psi.permute(1,0,2,3).detach().cpu(),\n",
    "                      v1.detach().cpu(), v2.detach().cpu(), v3.detach().cpu(), v_abs.detach().cpu(), step=4, use_mask=True)"
   ]
  },
  {
   "cell_type": "code",
   "execution_count": null,
   "metadata": {
    "id": "581nPvy08NE0",
    "scrolled": false
   },
   "outputs": [],
   "source": [
    "if not USE_3D and FLUID_TYPE == 'new' and CALC_ERROR:\n",
    "    flowVisualization(psi.permute(1,0,2,3).detach().cpu(),\n",
    "                      v1.detach().cpu(), v2.detach().cpu(), v3.detach().cpu(), v_abs.detach().cpu(), step=4, use_mask=False)"
   ]
  },
  {
   "cell_type": "markdown",
   "metadata": {
    "id": "zBtIvlRs8NE2"
   },
   "source": [
    "$V_3$ contours and slices"
   ]
  },
  {
   "cell_type": "code",
   "execution_count": null,
   "metadata": {
    "id": "xn9HljVs8NE3"
   },
   "outputs": [],
   "source": [
    "if not USE_3D and FLUID_TYPE == 'new' and CALC_ERROR:\n",
    "    v_contours_and_slices(v3.detach().cpu() * MASK.cpu()[0], 3)"
   ]
  },
  {
   "cell_type": "markdown",
   "metadata": {
    "id": "SPVyH46G8NE4"
   },
   "source": [
    "$V_3$ surface"
   ]
  },
  {
   "cell_type": "code",
   "execution_count": null,
   "metadata": {
    "id": "BNi5oVz88NE5"
   },
   "outputs": [],
   "source": [
    "if not USE_3D and FLUID_TYPE == 'new' and CALC_ERROR:\n",
    "    v_surf(v3.detach().cpu() * MASK.cpu()[0], X3_1, X3_2, 3)"
   ]
  },
  {
   "cell_type": "markdown",
   "metadata": {
    "id": "tw8qUglT8NE6"
   },
   "source": [
    "$V$ 3D"
   ]
  },
  {
   "cell_type": "code",
   "execution_count": null,
   "metadata": {
    "id": "V7L7kd7L8NE7"
   },
   "outputs": [],
   "source": [
    "if not USE_3D and FLUID_TYPE == 'new' and CALC_ERROR:\n",
    "    x = np.meshgrid(np.arange(0, SIZE, STEP3D),\n",
    "                    np.arange(0, SIZE, STEP3D),\n",
    "                    np.arange(0, SIZE, STEP3D), indexing='ij')\n",
    "\n",
    "    v_all = torch.stack((v1.cpu() * MASK[0].cpu() / L[0], v2.cpu() * MASK[0].cpu() / L[1], v3.cpu() * MASK[0].cpu() / L[2]), 3).detach()\n",
    "    v_abs = torch.sqrt(v_all[:, :, :, 0] ** 2 + v_all[:, :, :, 1] ** 2 + v_all[:, :, :, 2] ** 2)\n",
    "\n",
    "    vector_plot_3d(x, v_all / v_abs.max(), v_abs, figSize=FIGSIZE*4, step=STEP3D)"
   ]
  },
  {
   "cell_type": "markdown",
   "metadata": {
    "id": "tFYE31fyB0Yu"
   },
   "source": [
    "# **2D flows**\n",
    "\n",
    "It is supposed that the Non-Newtonian fluid flows between 2 paralle plates with the gap of $2R$."
   ]
  },
  {
   "cell_type": "code",
   "execution_count": null,
   "metadata": {
    "id": "dAlrFzPH8NE9"
   },
   "outputs": [],
   "source": [
    "if not USE_3D and FLUID_TYPE != 'new':\n",
    "    h = L[0] / 4\n",
    "    hh = h / 2 #, half part of the gap\n",
    "\n",
    "    N = SIZE // 8 #, number of nodes\n",
    "    x2 = torch.linspace(0,hh,N)#, coordinate across the gap 1/2 symmetrical part\n",
    "\n",
    "    q0 = Q0\n",
    "    q1 = Q1\n",
    "    z  =  Z\n",
    "    rho = RHO\n",
    "    print('q0={},q1={},z={}'.format(q0,q1,z))\n",
    "\n",
    "    #Velocity distribution\n",
    "    v1_non_new, mu_non_new, ksi_non_new = np.zeros(x2.shape), np.zeros(x2.shape), np.zeros(x2.shape)\n",
    "\n",
    "    if q0 == 0:\n",
    "        b = (abs(3) / (q1 * L[0]))\n",
    "        a = 1/z\n",
    "        if z != 1:    \n",
    "            v1_non_new = - (b ** a) * (x2 ** (1 + a) - hh ** (1 + a)) / (1+a) \n",
    "            ksi_non_new =  - ( b * x2) ** (1 / z) * 0.5\n",
    "            mu_non_new = q0 + q1 * abs(2 * ksi_non_new) ** (z-1)\n",
    "            #mu(ksi=0)=0.056 for blood\n",
    "            mu_non_new[0] = mu_non_new[1]\n",
    "            Q =  2/(2 + 1/z)*b**(1/z) * hh**(2 + 1/z) * L[2]\n",
    "        else:\n",
    "            print('see the case of Newtonian fluid!')\n",
    "    else:\n",
    "        b = (abs(p[1] - p[0]) / (q0 * L[0]))\n",
    "        x_kr = 1/b\n",
    "        for i, x in enumerate(x2):\n",
    "            if x < x_kr:\n",
    "                v1_non_new[i] = 0.5* b * (x_kr**2 - hh**2) - q1/q0 * (x_kr - hh)\n",
    "                ksi_non_new[i] = 0\n",
    "            else:\n",
    "                v1_non_new[i] = 0.5* b * (x**2 - hh**2) - q1/q0 * (x - hh)\n",
    "                ksi_non_new[i] = b * (x - x_kr)/2\n",
    "            if ksi_non_new[i]!=0:\n",
    "                mu_non_new[i] = q0 + q1 * abs(2 * ksi_non_new[i]) ** (z-1)\n",
    "        mu_non_new[0] = mu_non_new[1]\n",
    "        #Flow rate\n",
    "        Q = (-2/3 * b * (hh**3 - x_kr**3) + q1/q0 * (hh**2 - x_kr**2)) * L[2]\n",
    "\n",
    "    Eta = 2 * ksi_non_new.abs()  \n",
    "    ##Mean velocity\n",
    "    v1_mean = Q/(h*L[2])\n",
    "    \n",
    "    v1_non_new = torch.cat([v1_non_new.flip(0), v1_non_new], axis=0)\n",
    "    ind = int(SIZE * 3 / 8)\n",
    "    v3 = torch.zeros([SIZE] * 3)\n",
    "    v3[ind:-ind, :, :] = v1_non_new.reshape(-1, 1, 1)\n",
    "    v1 = torch.zeros(SIZE, SIZE, SIZE)\n",
    "    v2 = torch.zeros(SIZE, SIZE, SIZE)\n",
    "    v3_analytical = v3.clone()"
   ]
  },
  {
   "cell_type": "code",
   "execution_count": null,
   "metadata": {
    "id": "rJEmaxgZB0Yx",
    "scrolled": false
   },
   "outputs": [],
   "source": [
    "if not USE_3D and FLUID_TYPE != 'new' and CALC_ERROR:\n",
    "    flowVisualization(torch.zeros(1, 3, SIZE, SIZE), v1, v2, v3, v3, step=4, use_mask=False)"
   ]
  },
  {
   "cell_type": "markdown",
   "metadata": {
    "id": "f2-U-k0MB0Yz"
   },
   "source": [
    "$V_3$ contours and slices"
   ]
  },
  {
   "cell_type": "code",
   "execution_count": null,
   "metadata": {
    "id": "lUbeqRJTB0Y0"
   },
   "outputs": [],
   "source": [
    "if not USE_3D and FLUID_TYPE != 'new' and CALC_ERROR:\n",
    "    v_contours_and_slices(v3.detach().cpu() * MASK.cpu()[0], 3)"
   ]
  },
  {
   "cell_type": "markdown",
   "metadata": {
    "id": "h6yXWN9AB0Y1"
   },
   "source": [
    "$V_3$ surface"
   ]
  },
  {
   "cell_type": "code",
   "execution_count": null,
   "metadata": {
    "id": "2a0BS7J_B0Y2"
   },
   "outputs": [],
   "source": [
    "if not USE_3D and FLUID_TYPE != 'new' and CALC_ERROR:\n",
    "    v_surf(v3.detach().cpu() * MASK.cpu()[0], X3_1, X3_2, 3)"
   ]
  },
  {
   "cell_type": "markdown",
   "metadata": {
    "id": "GQakT7ECB0Y2"
   },
   "source": [
    "$V$ 3D"
   ]
  },
  {
   "cell_type": "code",
   "execution_count": null,
   "metadata": {
    "id": "Om6UkZT6B0Y4"
   },
   "outputs": [],
   "source": [
    "if not USE_3D and FLUID_TYPE != 'new' and CALC_ERROR:\n",
    "    x = np.meshgrid(np.arange(0, SIZE, STEP3D),\n",
    "                    np.arange(0, SIZE, STEP3D),\n",
    "                    np.arange(0, SIZE, STEP3D), indexing='ij')\n",
    "\n",
    "    v_all = torch.stack((v1.cpu() * MASK[0].cpu() / L[0], v2.cpu() * MASK[0].cpu() / L[1], v3.cpu() * MASK[0].cpu() / L[2]), 3).detach()\n",
    "    v_abs = torch.sqrt(v_all[:, :, :, 0] ** 2 + v_all[:, :, :, 1] ** 2 + v_all[:, :, :, 2] ** 2)\n",
    "\n",
    "    vector_plot_3d(x, v_all / v_abs.max(), v_abs, figSize=FIGSIZE*4, step=STEP3D)"
   ]
  },
  {
   "cell_type": "markdown",
   "metadata": {
    "id": "PhZutgNIyYhH"
   },
   "source": [
    "# Machine learning solution\n",
    "\n",
    "## Training"
   ]
  },
  {
   "cell_type": "code",
   "execution_count": null,
   "metadata": {
    "id": "k_gVtVBv8NFF",
    "jupyter": {
     "outputs_hidden": true
    }
   },
   "outputs": [],
   "source": [
    "start_time = time.time()\n",
    "\n",
    "os.makedirs(WORK_DIR + '/models', exist_ok=True)\n",
    "os.makedirs(WORK_DIR + '/history', exist_ok=True)\n",
    "\n",
    "# Перемещение на GPU\n",
    "\n",
    "if CONTINUE:\n",
    "    with open(f'{WORK_DIR}/history/{MODEL_NAME}_history.json', 'r') as fp:\n",
    "        run_record = json.load(fp)\n",
    "else:\n",
    "    run_record = {}\n",
    "\n",
    "for hyp in HYPS:\n",
    "    print('hyperparams: \\n', dict2str(hyp)) \n",
    "\n",
    "    model_path = (f'{WORK_DIR}/models/{MODEL_NAME}_{dict2str(hyp)}_{SIZE}_{L[0]}_{FLUID_TYPE}.pth')\n",
    "    \n",
    "    if model_path in run_record:\n",
    "        if 'final_metric' in run_record[model_path]:\n",
    "            continue\n",
    "    else:\n",
    "        run_record[model_path] = {'hyperparams': hyp}\n",
    "    \n",
    "\n",
    "    callbacks = [SaveBest(f'Train loss', model_path, 'min'),\n",
    "                 EarlyStop(f'Train loss', EARLY_STOP_PATIENCE, 'min')]\n",
    "    \n",
    "    if MODEL_NAME == 'Unet':\n",
    "        model = UNet(in_channels=IN_CH, out_channels=OUT_CH,\n",
    "                     init_features=hyp['num_of_feat'], use_bn=hyp[\"use_bn\"], use_sigmoid = hyp['use_sigmoid'])\n",
    "    else:\n",
    "        model = MLP(2, hyp[\"hidden_neurons\"], hyp[\"hidden_layers\"], 1, hyp['use_sigmoid'])\n",
    "    \n",
    "    model = model.to(DEVICE)\n",
    "    \n",
    "    if START_WITH_SAVED:\n",
    "        model.load_state_dict(torch.load(f'{WORK_DIR}/models/{MODEL_NAME}_best.pth'))\n",
    "        \n",
    "    if 'history' in run_record[model_path]:\n",
    "        model.load_state_dict(torch.load(model_path))  \n",
    "        \n",
    "    if hyp['optimizer'] == 'adam':\n",
    "        optimizer = torch.optim.Adam(model.parameters(), lr=hyp[\"learning_rate\"], weight_decay=DECAY)\n",
    "    else:\n",
    "        optimizer = torch.optim.LBFGS(model.parameters(), lr=1, max_iter=50000,\n",
    "                        max_eval=50000, tolerance_change=np.finfo(float).eps)\n",
    "    \n",
    "    \n",
    "    criterion = power_loss\n",
    "    run = None\n",
    "    \n",
    "    if hyp[\"scheduler\"] == \"step\":\n",
    "        lr_scheduler = torch.optim.lr_scheduler.StepLR(optimizer, hyp[\"scheduler_patience\"], gamma=hyp[\"scheduler_factor\"],\n",
    "                                                       last_epoch=- 1, verbose=False)\n",
    "    elif hyp[\"scheduler\"] == \"plateau\":                                \n",
    "        lr_scheduler = torch.optim.lr_scheduler.ReduceLROnPlateau(optimizer, mode='min',\n",
    "                                                                  patience=hyp[\"scheduler_patience\"],\n",
    "                                                                  min_lr=1e-6, factor=hyp[\"scheduler_factor\"])\n",
    "    elif hyp[\"scheduler\"] == \"cycle\":\n",
    "        lr_scheduler = scheduler = torch.optim.lr_scheduler.OneCycleLR(optimizer, max_lr=hyp[\"learning_rate\"] * 20,\n",
    "                                                                       steps_per_epoch=1, epochs=EPOCHS,\n",
    "                                                                       pct_start=0.125,\n",
    "                                                                       div_factor=hyp[\"scheduler_factor\"] ** -1,\n",
    "                                                                       final_div_factor=(hyp[\"scheduler_factor\"] ** -1) * 50)\n",
    "    else:\n",
    "        lr_scheduler = None\n",
    "\n",
    "    history = train(model, optimizer, power_loss,\n",
    "                    epochs=EPOCHS, print_every=100,\n",
    "                    callbacks=callbacks, lr_scheduler=lr_scheduler, run=run)\n",
    "\n",
    "    run_record[model_path] = {'hyperparams': hyp,\n",
    "                              'history': history,\n",
    "                              'final_metric': callbacks[1].best_monitor}\n",
    "    \n",
    "    psi, x = model_forward(model)\n",
    "    psi, v1, v2, v3, v_abs, loss = inference(psi, x)\n",
    "\n",
    "    print(f'absolute velocity: {v_abs.min()} < abs(V) < {v_abs.max()},')\n",
    "    print(f'mean velocity: {v_abs.mean()},')\n",
    "    print(f'internal power: Int = {loss},')\n",
    "    \n",
    "    results = {'Loss': loss,\n",
    "               'abs(V).min': v_abs.min(),\n",
    "               'abs(V).max': v_abs.max(),\n",
    "               'abs(V).mean': v_abs.mean(),\n",
    "               }\n",
    "\n",
    "    print(f\"Best Train loss %4.4f\" % (callbacks[1].best_monitor))\n",
    "\n",
    "    model = None\n",
    "    optimizer = None\n",
    "\n",
    "    torch.cuda.empty_cache()\n",
    "\n",
    "best_metric = None\n",
    "best_hyperparams = None\n",
    "best_run = None\n",
    "best_model_path = None\n",
    "\n",
    "for key, train_info in run_record.items():\n",
    "    if best_metric is None or best_metric > train_info['final_metric']:\n",
    "        best_metric = train_info['final_metric']\n",
    "        best_hyperparams = train_info['hyperparams']\n",
    "        best_run = train_info\n",
    "        best_model_path = key\n",
    "\n",
    "with open(f'{WORK_DIR}/history/{MODEL_NAME_FINAL}_history.json', 'w') as fp:\n",
    "    json.dump(run_record, fp)\n",
    "\n",
    "best_hyp = str(best_hyperparams).replace(\"}\", \"\")\n",
    "best_hyp = best_hyp.replace(\"{\", \"\")\n",
    "best_hyp = best_hyp.replace(\"'\", \"\")\n",
    "\n",
    "print(f\"Best Train loss: %4.4f, best hyperparams: %s\" % (best_metric, best_hyp))\n",
    "\n",
    "if MODEL_NAME == 'Unet':\n",
    "    model = UNet(in_channels=IN_CH, out_channels=OUT_CH,\n",
    "                 init_features=best_hyperparams['num_of_feat'], use_bn=best_hyperparams[\"use_bn\"],\n",
    "                 use_sigmoid = best_hyperparams['use_sigmoid'])\n",
    "else:\n",
    "    model = MLP(2, best_hyperparams[\"hidden_neurons\"], best_hyperparams[\"hidden_layers\"],\n",
    "                1, best_hyperparams['use_sigmoid'])\n",
    "        \n",
    "model.load_state_dict(torch.load(best_model_path))\n",
    "torch.save(model.state_dict(), f'{WORK_DIR}/models/{MODEL_NAME_FINAL}_best.pth')\n",
    "\n",
    "model = model.to(DEVICE)\n",
    "\n",
    "simulation_time = time.time() - start_time\n",
    "print('simulation time:{:.0f}m {:.0f}s'.format(\n",
    "      simulation_time // 60, simulation_time % 60))\n",
    "print('simulation time:{:.0f}s'.format(simulation_time))"
   ]
  },
  {
   "cell_type": "markdown",
   "metadata": {
    "id": "clv750uF8NFI"
   },
   "source": [
    "# Results\n",
    "## Plot train history"
   ]
  },
  {
   "cell_type": "code",
   "execution_count": null,
   "metadata": {
    "id": "SrqkROAS8NFK",
    "scrolled": false
   },
   "outputs": [],
   "source": [
    "plot_train_history(best_run['history'])"
   ]
  },
  {
   "cell_type": "markdown",
   "metadata": {
    "id": "L8XGnA1B8NFP"
   },
   "source": [
    "## Calculate loss"
   ]
  },
  {
   "cell_type": "code",
   "execution_count": null,
   "metadata": {
    "id": "UBfk6CTN8NFQ"
   },
   "outputs": [],
   "source": [
    "W_B = 0\n",
    "\n",
    "psi, x = model_forward(model)\n",
    "psi, v1, v2, v3, v_abs, loss = inference(psi, x)\n",
    "\n",
    "print(f'absolute velocity: {v_abs.min()} < abs(V) < {v_abs.max()},')\n",
    "print(f'mean velocity: {v_abs.mean()},')\n",
    "print(f'internal power: Int = {loss},')"
   ]
  },
  {
   "cell_type": "markdown",
   "metadata": {
    "id": "z0C9ksbr8NFR"
   },
   "source": [
    "## Visualization"
   ]
  },
  {
   "cell_type": "code",
   "execution_count": null,
   "metadata": {
    "id": "1szT1zuf8NFT",
    "scrolled": false
   },
   "outputs": [],
   "source": [
    "flowVisualization(psi.permute(1,0,2,3).detach().cpu(),\n",
    "                  v1.detach().cpu(), v2.detach().cpu(), v3.detach().cpu(), v_abs.detach().cpu(), step=4, use_mask=True)"
   ]
  },
  {
   "cell_type": "markdown",
   "metadata": {
    "id": "_XsNmUMU8NFU"
   },
   "source": [
    "$V$ contours and slices"
   ]
  },
  {
   "cell_type": "code",
   "execution_count": null,
   "metadata": {
    "id": "3LjxfcAr8NFV",
    "scrolled": false
   },
   "outputs": [],
   "source": [
    "v_contours_and_slices(v1.detach().cpu() * MASK.cpu()[0], 1)\n",
    "if USE_3D:\n",
    "    v_contours_and_slices(v2.detach().cpu() * MASK.cpu()[0], 2)\n",
    "v_contours_and_slices(v3.detach().cpu() * MASK.cpu()[0], 3)\n",
    "v_contours_and_slices(v_abs.detach().cpu() * MASK.cpu()[0], 'abs')"
   ]
  },
  {
   "cell_type": "code",
   "execution_count": null,
   "metadata": {
    "id": "M3houtwp8NFW",
    "scrolled": false
   },
   "outputs": [],
   "source": [
    "v_contours_and_slices(v1.detach().cpu(), 1)\n",
    "if USE_3D:\n",
    "    v_contours_and_slices(v2.detach().cpu(), 2)\n",
    "v_contours_and_slices(v3.detach().cpu(), 3)\n",
    "v_contours_and_slices(v_abs.detach().cpu(), 'abs')"
   ]
  },
  {
   "cell_type": "markdown",
   "metadata": {
    "id": "c_qmes058NFY"
   },
   "source": [
    "$V$ surface"
   ]
  },
  {
   "cell_type": "code",
   "execution_count": null,
   "metadata": {
    "id": "GDoDoSwy8NFZ",
    "scrolled": false
   },
   "outputs": [],
   "source": [
    "v_surf(v1.detach().cpu() * MASK.cpu()[0], X3_1 * L[0], X3_2 * L[1], 1)\n",
    "if USE_3D:\n",
    "    v_surf(v2.detach().cpu() * MASK.cpu()[0], X3_1 * L[0], X3_2 * L[1], 2)\n",
    "v_surf(v3.detach().cpu() * MASK.cpu()[0], X3_1 * L[0], X3_2 * L[1], 3)\n",
    "v_surf(v_abs.detach().cpu() * MASK.cpu()[0], X3_1 * L[0], X3_2 * L[1], 'abs')"
   ]
  },
  {
   "cell_type": "markdown",
   "metadata": {
    "id": "9TJxPsbJ8NFa"
   },
   "source": [
    "$V$ 3D"
   ]
  },
  {
   "cell_type": "code",
   "execution_count": null,
   "metadata": {
    "id": "PX4hjxTj8NFb"
   },
   "outputs": [],
   "source": [
    "x = np.meshgrid(np.arange(0, SIZE, STEP3D),\n",
    "                np.arange(0, SIZE, STEP3D),\n",
    "                np.arange(0, SIZE, STEP3D), indexing='ij')\n",
    "\n",
    "v_all = torch.stack((v1.cpu() * MASK[0].cpu() / L[0], v2.cpu() * MASK[0].cpu() / L[1], v3.cpu() * MASK[0].cpu() / L[2]), 3).detach()\n",
    "v_abs = torch.sqrt(v_all[:, :, :, 0] ** 2 + v_all[:, :, :, 1] ** 2 + v_all[:, :, :, 2] ** 2)\n",
    "\n",
    "vector_plot_3d(x, v_all / v_abs.max(), v_abs, figSize=FIGSIZE*4, step=STEP3D)"
   ]
  },
  {
   "cell_type": "markdown",
   "metadata": {
    "id": "vMZXpKvm8NFc"
   },
   "source": [
    "# Results (if use Parallel plates or Pipe)"
   ]
  },
  {
   "cell_type": "markdown",
   "metadata": {
    "id": "qZajbdfYB0ZQ"
   },
   "source": [
    "## Visualization of errors"
   ]
  },
  {
   "cell_type": "code",
   "execution_count": null,
   "metadata": {
    "id": "rJZxZXjo8NFd"
   },
   "outputs": [],
   "source": [
    "if CALC_ERROR:\n",
    "    plt.rcParams.update({'font.size': 14})\n",
    "\n",
    "    v3_analytical_vis = v3_analytical.detach().cpu()[:, 0, :][MASK[0,:,SLICES[1],:].to('cpu') == 1].reshape(SIZE, -1)\n",
    "    v3_vis = v3.detach().cpu()[:, 0, :][MASK[0,:,SLICES[1],:].to('cpu') == 1].reshape(SIZE, -1)\n",
    "    v3_errors = (v3_analytical[:, 0, :].detach().cpu() - v3[:, 0, :].detach().cpu())[MASK[0,:,SLICES[1],:].to('cpu') == 1].reshape(SIZE, -1)\n",
    "    max_error = abs(v3_errors).max()\n",
    "\n",
    "    fig,ax = plt.subplots(ncols=3, figsize=(20, 6))\n",
    "\n",
    "    im = ax[0].imshow(v3_analytical_vis, extent=(0, L[2], L[1] / 4, 0), aspect='auto', cmap='rainbow')\n",
    "    ax[0].set_ylabel('$x_1$')\n",
    "    ax[0].set_xlabel('$x_3$')\n",
    "    cbar = fig.colorbar(im)\n",
    "    cbar.ax.locator_params(nbins=5)\n",
    "    ax[0].set_title('Analytical solution $V_3$')\n",
    "    ax[0].locator_params(axis='both', nbins=5)\n",
    "\n",
    "    im = ax[1].imshow(v3_vis, extent=(0, L[2], L[1] / 4, 0), aspect='auto', cmap='rainbow')\n",
    "    ax[1].set_ylabel('$x_1$')\n",
    "    ax[1].set_xlabel('$x_3$')\n",
    "    cbar = fig.colorbar(im)\n",
    "    cbar.ax.locator_params(nbins=5)\n",
    "    ax[1].set_title(f'{MODEL_NAME} solution $V_3$')\n",
    "    ax[1].locator_params(axis='both', nbins=5)\n",
    "\n",
    "    im = ax[2].imshow(v3_errors, extent=(0, L[2], L[1] / 4, 0), aspect='auto', cmap=cm.coolwarm, vmin=-max_error, vmax=max_error)\n",
    "    ax[2].set_ylabel('$x_1$')\n",
    "    ax[2].set_xlabel('$x_3$')\n",
    "    cbar = fig.colorbar(im)\n",
    "    cbar.ax.locator_params(nbins=5)\n",
    "    ax[2].set_title('Error $V_3$')\n",
    "    ax[2].locator_params(axis='both', nbins=5)\n",
    "\n",
    "    plt.subplots_adjust(left=0.05, right=0.95)\n",
    "\n",
    "    plt.savefig(f'{MODEL_NAME_FINAL}.svg')\n",
    "    plt.savefig(f'{MODEL_NAME_FINAL}.png')\n",
    "    plt.show()"
   ]
  },
  {
   "cell_type": "markdown",
   "metadata": {
    "id": "95tUvnaYB0ZS"
   },
   "source": [
    "## Calculate error"
   ]
  },
  {
   "cell_type": "code",
   "execution_count": null,
   "metadata": {
    "id": "bKF8ZftQ8NFf"
   },
   "outputs": [],
   "source": [
    "if CALC_ERROR:\n",
    "    v3_max_analytical = v3_analytical_vis.max()\n",
    "    v3_max_ = v3_vis.max()\n",
    "\n",
    "    v3_max_error = abs((v3_max_analytical - v3_max_) / v3_max_analytical) * 100\n",
    "    v3_mean_error = abs((v3_analytical_vis - v3_vis) / v3_max_analytical) * 100\n",
    "\n",
    "    print(f\"v3 maximum error: {v3_max_error} %\")\n",
    "    print(f\"v3 mean error: {v3_max_error} %\")"
   ]
  }
 ],
 "metadata": {
  "accelerator": "GPU",
  "colab": {
   "provenance": []
  },
  "kernelspec": {
   "display_name": "Python 3 (ipykernel)",
   "language": "python",
   "name": "python3"
  },
  "language_info": {
   "codemirror_mode": {
    "name": "ipython",
    "version": 3
   },
   "file_extension": ".py",
   "mimetype": "text/x-python",
   "name": "python",
   "nbconvert_exporter": "python",
   "pygments_lexer": "ipython3",
   "version": "3.9.16"
  },
  "varInspector": {
   "cols": {
    "lenName": 16,
    "lenType": 16,
    "lenVar": 40
   },
   "kernels_config": {
    "python": {
     "delete_cmd_postfix": "",
     "delete_cmd_prefix": "del ",
     "library": "var_list.py",
     "varRefreshCmd": "print(var_dic_list())"
    },
    "r": {
     "delete_cmd_postfix": ") ",
     "delete_cmd_prefix": "rm(",
     "library": "var_list.r",
     "varRefreshCmd": "cat(var_dic_list()) "
    }
   },
   "types_to_exclude": [
    "module",
    "function",
    "builtin_function_or_method",
    "instance",
    "_Feature"
   ],
   "window_display": false
  }
 },
 "nbformat": 4,
 "nbformat_minor": 1
}
